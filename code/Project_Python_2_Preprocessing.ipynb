{
 "cells": [
  {
   "cell_type": "markdown",
   "metadata": {},
   "source": [
    "# Subreddit Classifier Project: Monty Python vs. Python Language\n",
    "## Stage 2: Preprocessing\n",
    "\n",
    "Now that I have collected data from the Python and MontyPython subreddits, I will perform some preprocessing on the data to cleanse it, use some transformation techniques so that I have a good selection of features to input into my models in the next steps. \n",
    "\n",
    "For preprocessing, I will use a variety of natural language processing tools to cleanse and transform my corpus in preparation for modeling. I will start by tokenizing the corpus so I can look at word counts both in total and unique. I will also lemmatize the tokens to remove different conjugations and variations of the same word. I will also look at the most common words to determine whether stop_words should be removed. Once my corpus has been cleansed and explored, and I have created new features using NLP techniques, I will be ready for stage 3, which is model building. "
   ]
  },
  {
   "cell_type": "markdown",
   "metadata": {},
   "source": [
    "#### Imports"
   ]
  },
  {
   "cell_type": "code",
   "execution_count": 86,
   "metadata": {},
   "outputs": [],
   "source": [
    "# Standard imports:\n",
    "import pandas as pd\n",
    "import numpy as np\n",
    "import matplotlib.pyplot as plt\n",
    "import seaborn as sns\n",
    "\n",
    "# NLP imports:\n",
    "from nltk.tokenize import sent_tokenize, word_tokenize, RegexpTokenizer\n",
    "from nltk.stem import WordNetLemmatizer\n",
    "from nltk.stem.porter import PorterStemmer\n",
    "from nltk.corpus import stopwords\n",
    "from nltk.sentiment.vader import SentimentIntensityAnalyzer\n",
    "from nltk import FreqDist, pos_tag\n",
    "from nltk.tokenize import word_tokenize\n",
    "from collections import Counter\n",
    "from sklearn.feature_extraction.text import CountVectorizer, TfidfVectorizer\n",
    "import re\n",
    "\n",
    "# Estimator and Tranformer imports:\n",
    "from sklearn.model_selection import train_test_split, cross_val_score, GridSearchCV\n",
    "from sklearn.pipeline import Pipeline\n",
    "from sklearn.naive_bayes import MultinomialNB\n",
    "from sklearn.linear_model import LogisticRegression\n",
    "from sklearn.metrics import confusion_matrix, plot_confusion_matrix\n",
    "\n",
    "# Other useful imports:\n",
    "import sys\n",
    "import time"
   ]
  },
  {
   "cell_type": "code",
   "execution_count": 87,
   "metadata": {},
   "outputs": [
    {
     "name": "stdout",
     "output_type": "stream",
     "text": [
      "README.md         \u001b[34mcode\u001b[m\u001b[m/             \u001b[34mimages\u001b[m\u001b[m/\n",
      "Requirements.txt  \u001b[34mdata\u001b[m\u001b[m/             \u001b[34mpresentation\u001b[m\u001b[m/\n"
     ]
    }
   ],
   "source": [
    "ls"
   ]
  },
  {
   "cell_type": "code",
   "execution_count": 191,
   "metadata": {},
   "outputs": [],
   "source": [
    "all_py = pd.read_csv('./data/all_py.csv', index_col=0)"
   ]
  },
  {
   "cell_type": "code",
   "execution_count": 192,
   "metadata": {},
   "outputs": [
    {
     "data": {
      "text/html": [
       "<div>\n",
       "<style scoped>\n",
       "    .dataframe tbody tr th:only-of-type {\n",
       "        vertical-align: middle;\n",
       "    }\n",
       "\n",
       "    .dataframe tbody tr th {\n",
       "        vertical-align: top;\n",
       "    }\n",
       "\n",
       "    .dataframe thead th {\n",
       "        text-align: right;\n",
       "    }\n",
       "</style>\n",
       "<table border=\"1\" class=\"dataframe\">\n",
       "  <thead>\n",
       "    <tr style=\"text-align: right;\">\n",
       "      <th></th>\n",
       "      <th>id</th>\n",
       "      <th>subreddit</th>\n",
       "      <th>title</th>\n",
       "      <th>selftext</th>\n",
       "      <th>title_selftext</th>\n",
       "      <th>subred</th>\n",
       "    </tr>\n",
       "  </thead>\n",
       "  <tbody>\n",
       "    <tr>\n",
       "      <th>0</th>\n",
       "      <td>kk4x0j</td>\n",
       "      <td>Python</td>\n",
       "      <td>Question About Django Models</td>\n",
       "      <td>okay, here is the situation what do I do?\\n\\nI...</td>\n",
       "      <td>Question About Django Models okay, here is the...</td>\n",
       "      <td>1</td>\n",
       "    </tr>\n",
       "    <tr>\n",
       "      <th>1</th>\n",
       "      <td>kk4n1m</td>\n",
       "      <td>Python</td>\n",
       "      <td>I'm very new to Python and need help coding a ...</td>\n",
       "      <td>NaN</td>\n",
       "      <td>I'm very new to Python and need help coding a ...</td>\n",
       "      <td>1</td>\n",
       "    </tr>\n",
       "    <tr>\n",
       "      <th>2</th>\n",
       "      <td>kk4b4f</td>\n",
       "      <td>Python</td>\n",
       "      <td>How to define a complex number in polar form i...</td>\n",
       "      <td>NaN</td>\n",
       "      <td>How to define a complex number in polar form i...</td>\n",
       "      <td>1</td>\n",
       "    </tr>\n",
       "    <tr>\n",
       "      <th>3</th>\n",
       "      <td>kk41hq</td>\n",
       "      <td>Python</td>\n",
       "      <td>Negative binomial distribution issue</td>\n",
       "      <td>[removed]</td>\n",
       "      <td>Negative binomial distribution issue [removed]</td>\n",
       "      <td>1</td>\n",
       "    </tr>\n",
       "    <tr>\n",
       "      <th>4</th>\n",
       "      <td>kk3u6a</td>\n",
       "      <td>Python</td>\n",
       "      <td>Merry Christmas Everyone. I suck at making art...</td>\n",
       "      <td>NaN</td>\n",
       "      <td>Merry Christmas Everyone. I suck at making art...</td>\n",
       "      <td>1</td>\n",
       "    </tr>\n",
       "  </tbody>\n",
       "</table>\n",
       "</div>"
      ],
      "text/plain": [
       "       id subreddit                                              title  \\\n",
       "0  kk4x0j    Python                       Question About Django Models   \n",
       "1  kk4n1m    Python  I'm very new to Python and need help coding a ...   \n",
       "2  kk4b4f    Python  How to define a complex number in polar form i...   \n",
       "3  kk41hq    Python               Negative binomial distribution issue   \n",
       "4  kk3u6a    Python  Merry Christmas Everyone. I suck at making art...   \n",
       "\n",
       "                                            selftext  \\\n",
       "0  okay, here is the situation what do I do?\\n\\nI...   \n",
       "1                                                NaN   \n",
       "2                                                NaN   \n",
       "3                                          [removed]   \n",
       "4                                                NaN   \n",
       "\n",
       "                                      title_selftext  subred  \n",
       "0  Question About Django Models okay, here is the...       1  \n",
       "1  I'm very new to Python and need help coding a ...       1  \n",
       "2  How to define a complex number in polar form i...       1  \n",
       "3     Negative binomial distribution issue [removed]       1  \n",
       "4  Merry Christmas Everyone. I suck at making art...       1  "
      ]
     },
     "execution_count": 192,
     "metadata": {},
     "output_type": "execute_result"
    }
   ],
   "source": [
    "all_py.head()"
   ]
  },
  {
   "cell_type": "code",
   "execution_count": 193,
   "metadata": {},
   "outputs": [
    {
     "data": {
      "text/html": [
       "<div>\n",
       "<style scoped>\n",
       "    .dataframe tbody tr th:only-of-type {\n",
       "        vertical-align: middle;\n",
       "    }\n",
       "\n",
       "    .dataframe tbody tr th {\n",
       "        vertical-align: top;\n",
       "    }\n",
       "\n",
       "    .dataframe thead th {\n",
       "        text-align: right;\n",
       "    }\n",
       "</style>\n",
       "<table border=\"1\" class=\"dataframe\">\n",
       "  <thead>\n",
       "    <tr style=\"text-align: right;\">\n",
       "      <th></th>\n",
       "      <th>id</th>\n",
       "      <th>subreddit</th>\n",
       "      <th>title</th>\n",
       "      <th>selftext</th>\n",
       "      <th>title_selftext</th>\n",
       "      <th>subred</th>\n",
       "    </tr>\n",
       "  </thead>\n",
       "  <tbody>\n",
       "    <tr>\n",
       "      <th>2995</th>\n",
       "      <td>efsdtx</td>\n",
       "      <td>montypython</td>\n",
       "      <td>Look what I got for Christmas!</td>\n",
       "      <td>NaN</td>\n",
       "      <td>Look what I got for Christmas!</td>\n",
       "      <td>0</td>\n",
       "    </tr>\n",
       "    <tr>\n",
       "      <th>2996</th>\n",
       "      <td>efqm57</td>\n",
       "      <td>montypython</td>\n",
       "      <td>I noticed something about the can of whip crea...</td>\n",
       "      <td>NaN</td>\n",
       "      <td>I noticed something about the can of whip crea...</td>\n",
       "      <td>0</td>\n",
       "    </tr>\n",
       "    <tr>\n",
       "      <th>2997</th>\n",
       "      <td>efnc5r</td>\n",
       "      <td>montypython</td>\n",
       "      <td>Omegle Girls Teen - Wildest Teen Omegle Girls ...</td>\n",
       "      <td>NaN</td>\n",
       "      <td>Omegle Girls Teen - Wildest Teen Omegle Girls ...</td>\n",
       "      <td>0</td>\n",
       "    </tr>\n",
       "    <tr>\n",
       "      <th>2998</th>\n",
       "      <td>efn84i</td>\n",
       "      <td>montypython</td>\n",
       "      <td>Sorry if someone else has done this</td>\n",
       "      <td>NaN</td>\n",
       "      <td>Sorry if someone else has done this</td>\n",
       "      <td>0</td>\n",
       "    </tr>\n",
       "    <tr>\n",
       "      <th>2999</th>\n",
       "      <td>efn3kd</td>\n",
       "      <td>montypython</td>\n",
       "      <td>Low effort meme I made</td>\n",
       "      <td>NaN</td>\n",
       "      <td>Low effort meme I made</td>\n",
       "      <td>0</td>\n",
       "    </tr>\n",
       "  </tbody>\n",
       "</table>\n",
       "</div>"
      ],
      "text/plain": [
       "          id    subreddit                                              title  \\\n",
       "2995  efsdtx  montypython                     Look what I got for Christmas!   \n",
       "2996  efqm57  montypython  I noticed something about the can of whip crea...   \n",
       "2997  efnc5r  montypython  Omegle Girls Teen - Wildest Teen Omegle Girls ...   \n",
       "2998  efn84i  montypython                Sorry if someone else has done this   \n",
       "2999  efn3kd  montypython                             Low effort meme I made   \n",
       "\n",
       "     selftext                                     title_selftext  subred  \n",
       "2995      NaN                    Look what I got for Christmas!        0  \n",
       "2996      NaN  I noticed something about the can of whip crea...       0  \n",
       "2997      NaN  Omegle Girls Teen - Wildest Teen Omegle Girls ...       0  \n",
       "2998      NaN               Sorry if someone else has done this        0  \n",
       "2999      NaN                            Low effort meme I made        0  "
      ]
     },
     "execution_count": 193,
     "metadata": {},
     "output_type": "execute_result"
    }
   ],
   "source": [
    "all_py.tail()"
   ]
  },
  {
   "cell_type": "markdown",
   "metadata": {},
   "source": [
    "#### Explore the data with NLP"
   ]
  },
  {
   "cell_type": "code",
   "execution_count": 194,
   "metadata": {},
   "outputs": [],
   "source": [
    "tokenizer = RegexpTokenizer(r'\\w+')"
   ]
  },
  {
   "cell_type": "code",
   "execution_count": 195,
   "metadata": {},
   "outputs": [],
   "source": [
    "all_py['tokens'] = all_py['title_selftext'].apply(tokenizer.tokenize)"
   ]
  },
  {
   "cell_type": "code",
   "execution_count": 196,
   "metadata": {},
   "outputs": [
    {
     "data": {
      "text/html": [
       "<div>\n",
       "<style scoped>\n",
       "    .dataframe tbody tr th:only-of-type {\n",
       "        vertical-align: middle;\n",
       "    }\n",
       "\n",
       "    .dataframe tbody tr th {\n",
       "        vertical-align: top;\n",
       "    }\n",
       "\n",
       "    .dataframe thead th {\n",
       "        text-align: right;\n",
       "    }\n",
       "</style>\n",
       "<table border=\"1\" class=\"dataframe\">\n",
       "  <thead>\n",
       "    <tr style=\"text-align: right;\">\n",
       "      <th></th>\n",
       "      <th>id</th>\n",
       "      <th>subreddit</th>\n",
       "      <th>title</th>\n",
       "      <th>selftext</th>\n",
       "      <th>title_selftext</th>\n",
       "      <th>subred</th>\n",
       "      <th>tokens</th>\n",
       "    </tr>\n",
       "  </thead>\n",
       "  <tbody>\n",
       "    <tr>\n",
       "      <th>0</th>\n",
       "      <td>kk4x0j</td>\n",
       "      <td>Python</td>\n",
       "      <td>Question About Django Models</td>\n",
       "      <td>okay, here is the situation what do I do?\\n\\nI...</td>\n",
       "      <td>Question About Django Models okay, here is the...</td>\n",
       "      <td>1</td>\n",
       "      <td>[Question, About, Django, Models, okay, here, ...</td>\n",
       "    </tr>\n",
       "    <tr>\n",
       "      <th>1</th>\n",
       "      <td>kk4n1m</td>\n",
       "      <td>Python</td>\n",
       "      <td>I'm very new to Python and need help coding a ...</td>\n",
       "      <td>NaN</td>\n",
       "      <td>I'm very new to Python and need help coding a ...</td>\n",
       "      <td>1</td>\n",
       "      <td>[I, m, very, new, to, Python, and, need, help,...</td>\n",
       "    </tr>\n",
       "    <tr>\n",
       "      <th>2</th>\n",
       "      <td>kk4b4f</td>\n",
       "      <td>Python</td>\n",
       "      <td>How to define a complex number in polar form i...</td>\n",
       "      <td>NaN</td>\n",
       "      <td>How to define a complex number in polar form i...</td>\n",
       "      <td>1</td>\n",
       "      <td>[How, to, define, a, complex, number, in, pola...</td>\n",
       "    </tr>\n",
       "    <tr>\n",
       "      <th>3</th>\n",
       "      <td>kk41hq</td>\n",
       "      <td>Python</td>\n",
       "      <td>Negative binomial distribution issue</td>\n",
       "      <td>[removed]</td>\n",
       "      <td>Negative binomial distribution issue [removed]</td>\n",
       "      <td>1</td>\n",
       "      <td>[Negative, binomial, distribution, issue, remo...</td>\n",
       "    </tr>\n",
       "    <tr>\n",
       "      <th>4</th>\n",
       "      <td>kk3u6a</td>\n",
       "      <td>Python</td>\n",
       "      <td>Merry Christmas Everyone. I suck at making art...</td>\n",
       "      <td>NaN</td>\n",
       "      <td>Merry Christmas Everyone. I suck at making art...</td>\n",
       "      <td>1</td>\n",
       "      <td>[Merry, Christmas, Everyone, I, suck, at, maki...</td>\n",
       "    </tr>\n",
       "  </tbody>\n",
       "</table>\n",
       "</div>"
      ],
      "text/plain": [
       "       id subreddit                                              title  \\\n",
       "0  kk4x0j    Python                       Question About Django Models   \n",
       "1  kk4n1m    Python  I'm very new to Python and need help coding a ...   \n",
       "2  kk4b4f    Python  How to define a complex number in polar form i...   \n",
       "3  kk41hq    Python               Negative binomial distribution issue   \n",
       "4  kk3u6a    Python  Merry Christmas Everyone. I suck at making art...   \n",
       "\n",
       "                                            selftext  \\\n",
       "0  okay, here is the situation what do I do?\\n\\nI...   \n",
       "1                                                NaN   \n",
       "2                                                NaN   \n",
       "3                                          [removed]   \n",
       "4                                                NaN   \n",
       "\n",
       "                                      title_selftext  subred  \\\n",
       "0  Question About Django Models okay, here is the...       1   \n",
       "1  I'm very new to Python and need help coding a ...       1   \n",
       "2  How to define a complex number in polar form i...       1   \n",
       "3     Negative binomial distribution issue [removed]       1   \n",
       "4  Merry Christmas Everyone. I suck at making art...       1   \n",
       "\n",
       "                                              tokens  \n",
       "0  [Question, About, Django, Models, okay, here, ...  \n",
       "1  [I, m, very, new, to, Python, and, need, help,...  \n",
       "2  [How, to, define, a, complex, number, in, pola...  \n",
       "3  [Negative, binomial, distribution, issue, remo...  \n",
       "4  [Merry, Christmas, Everyone, I, suck, at, maki...  "
      ]
     },
     "execution_count": 196,
     "metadata": {},
     "output_type": "execute_result"
    }
   ],
   "source": [
    "all_py.head()"
   ]
  },
  {
   "cell_type": "code",
   "execution_count": 197,
   "metadata": {},
   "outputs": [
    {
     "name": "stdout",
     "output_type": "stream",
     "text": [
      "Total words in posts: 100995\n",
      "Total unique words in posts: 12808\n"
     ]
    }
   ],
   "source": [
    "# Credit for the code in the next two cells goes to a site Emily shared by a gentleman named Emmanuel:\n",
    "# https://blog.insightdatascience.com/how-to-solve-90-of-nlp-problems-a-step-by-step-guide-fda605278e4e\n",
    "\n",
    "all_words = [word for tokens in all_py['tokens'] for word in tokens]\n",
    "vocab = sorted(list(set(all_words)))\n",
    "\n",
    "print(f'Total words in posts: {len(all_words)}')\n",
    "print(f'Total unique words in posts: {len(vocab)}')"
   ]
  },
  {
   "cell_type": "code",
   "execution_count": 199,
   "metadata": {},
   "outputs": [],
   "source": [
    "all_py['post_length'] = [len(tokens) for tokens in all_py['tokens']]\n",
    "post_length = [len(tokens) for tokens in all_py['tokens']]\n",
    "\n",
    "print(f'Avg Post Length: {np.mean(post_length).round(1)}')\n",
    "print(f'Min Post Length: {np.min(post_length).round(1)}')\n",
    "print(f'Max Post Length: {np.max(post_length).round(1)}')"
   ]
  },
  {
   "cell_type": "code",
   "execution_count": 200,
   "metadata": {},
   "outputs": [
    {
     "data": {
      "text/html": [
       "<div>\n",
       "<style scoped>\n",
       "    .dataframe tbody tr th:only-of-type {\n",
       "        vertical-align: middle;\n",
       "    }\n",
       "\n",
       "    .dataframe tbody tr th {\n",
       "        vertical-align: top;\n",
       "    }\n",
       "\n",
       "    .dataframe thead th {\n",
       "        text-align: right;\n",
       "    }\n",
       "</style>\n",
       "<table border=\"1\" class=\"dataframe\">\n",
       "  <thead>\n",
       "    <tr style=\"text-align: right;\">\n",
       "      <th></th>\n",
       "      <th>id</th>\n",
       "      <th>subreddit</th>\n",
       "      <th>title</th>\n",
       "      <th>selftext</th>\n",
       "      <th>title_selftext</th>\n",
       "      <th>subred</th>\n",
       "      <th>tokens</th>\n",
       "      <th>post_length</th>\n",
       "    </tr>\n",
       "  </thead>\n",
       "  <tbody>\n",
       "    <tr>\n",
       "      <th>0</th>\n",
       "      <td>kk4x0j</td>\n",
       "      <td>Python</td>\n",
       "      <td>Question About Django Models</td>\n",
       "      <td>okay, here is the situation what do I do?\\n\\nI...</td>\n",
       "      <td>Question About Django Models okay, here is the...</td>\n",
       "      <td>1</td>\n",
       "      <td>[Question, About, Django, Models, okay, here, ...</td>\n",
       "      <td>85</td>\n",
       "    </tr>\n",
       "    <tr>\n",
       "      <th>1</th>\n",
       "      <td>kk4n1m</td>\n",
       "      <td>Python</td>\n",
       "      <td>I'm very new to Python and need help coding a ...</td>\n",
       "      <td>NaN</td>\n",
       "      <td>I'm very new to Python and need help coding a ...</td>\n",
       "      <td>1</td>\n",
       "      <td>[I, m, very, new, to, Python, and, need, help,...</td>\n",
       "      <td>41</td>\n",
       "    </tr>\n",
       "    <tr>\n",
       "      <th>2</th>\n",
       "      <td>kk4b4f</td>\n",
       "      <td>Python</td>\n",
       "      <td>How to define a complex number in polar form i...</td>\n",
       "      <td>NaN</td>\n",
       "      <td>How to define a complex number in polar form i...</td>\n",
       "      <td>1</td>\n",
       "      <td>[How, to, define, a, complex, number, in, pola...</td>\n",
       "      <td>11</td>\n",
       "    </tr>\n",
       "    <tr>\n",
       "      <th>3</th>\n",
       "      <td>kk41hq</td>\n",
       "      <td>Python</td>\n",
       "      <td>Negative binomial distribution issue</td>\n",
       "      <td>[removed]</td>\n",
       "      <td>Negative binomial distribution issue [removed]</td>\n",
       "      <td>1</td>\n",
       "      <td>[Negative, binomial, distribution, issue, remo...</td>\n",
       "      <td>5</td>\n",
       "    </tr>\n",
       "    <tr>\n",
       "      <th>4</th>\n",
       "      <td>kk3u6a</td>\n",
       "      <td>Python</td>\n",
       "      <td>Merry Christmas Everyone. I suck at making art...</td>\n",
       "      <td>NaN</td>\n",
       "      <td>Merry Christmas Everyone. I suck at making art...</td>\n",
       "      <td>1</td>\n",
       "      <td>[Merry, Christmas, Everyone, I, suck, at, maki...</td>\n",
       "      <td>15</td>\n",
       "    </tr>\n",
       "  </tbody>\n",
       "</table>\n",
       "</div>"
      ],
      "text/plain": [
       "       id subreddit                                              title  \\\n",
       "0  kk4x0j    Python                       Question About Django Models   \n",
       "1  kk4n1m    Python  I'm very new to Python and need help coding a ...   \n",
       "2  kk4b4f    Python  How to define a complex number in polar form i...   \n",
       "3  kk41hq    Python               Negative binomial distribution issue   \n",
       "4  kk3u6a    Python  Merry Christmas Everyone. I suck at making art...   \n",
       "\n",
       "                                            selftext  \\\n",
       "0  okay, here is the situation what do I do?\\n\\nI...   \n",
       "1                                                NaN   \n",
       "2                                                NaN   \n",
       "3                                          [removed]   \n",
       "4                                                NaN   \n",
       "\n",
       "                                      title_selftext  subred  \\\n",
       "0  Question About Django Models okay, here is the...       1   \n",
       "1  I'm very new to Python and need help coding a ...       1   \n",
       "2  How to define a complex number in polar form i...       1   \n",
       "3     Negative binomial distribution issue [removed]       1   \n",
       "4  Merry Christmas Everyone. I suck at making art...       1   \n",
       "\n",
       "                                              tokens  post_length  \n",
       "0  [Question, About, Django, Models, okay, here, ...           85  \n",
       "1  [I, m, very, new, to, Python, and, need, help,...           41  \n",
       "2  [How, to, define, a, complex, number, in, pola...           11  \n",
       "3  [Negative, binomial, distribution, issue, remo...            5  \n",
       "4  [Merry, Christmas, Everyone, I, suck, at, maki...           15  "
      ]
     },
     "execution_count": 200,
     "metadata": {},
     "output_type": "execute_result"
    }
   ],
   "source": [
    "all_py.head()"
   ]
  },
  {
   "cell_type": "code",
   "execution_count": null,
   "metadata": {},
   "outputs": [],
   "source": []
  },
  {
   "cell_type": "code",
   "execution_count": 201,
   "metadata": {},
   "outputs": [
    {
     "data": {
      "text/html": [
       "<div>\n",
       "<style scoped>\n",
       "    .dataframe tbody tr th:only-of-type {\n",
       "        vertical-align: middle;\n",
       "    }\n",
       "\n",
       "    .dataframe tbody tr th {\n",
       "        vertical-align: top;\n",
       "    }\n",
       "\n",
       "    .dataframe thead th {\n",
       "        text-align: right;\n",
       "    }\n",
       "</style>\n",
       "<table border=\"1\" class=\"dataframe\">\n",
       "  <thead>\n",
       "    <tr style=\"text-align: right;\">\n",
       "      <th></th>\n",
       "      <th>subred</th>\n",
       "      <th>post_length</th>\n",
       "    </tr>\n",
       "    <tr>\n",
       "      <th>subreddit</th>\n",
       "      <th></th>\n",
       "      <th></th>\n",
       "    </tr>\n",
       "  </thead>\n",
       "  <tbody>\n",
       "    <tr>\n",
       "      <th>Python</th>\n",
       "      <td>1.0</td>\n",
       "      <td>49.604667</td>\n",
       "    </tr>\n",
       "    <tr>\n",
       "      <th>montypython</th>\n",
       "      <td>0.0</td>\n",
       "      <td>17.725333</td>\n",
       "    </tr>\n",
       "  </tbody>\n",
       "</table>\n",
       "</div>"
      ],
      "text/plain": [
       "             subred  post_length\n",
       "subreddit                       \n",
       "Python          1.0    49.604667\n",
       "montypython     0.0    17.725333"
      ]
     },
     "execution_count": 201,
     "metadata": {},
     "output_type": "execute_result"
    }
   ],
   "source": [
    "# Based on the below, post_length could be predictive in differentiating Python and monty python posts. \n",
    "# Depending on the model, I may pull this in as a feature. \n",
    "\n",
    "all_py.groupby('subreddit').mean()"
   ]
  },
  {
   "cell_type": "code",
   "execution_count": 202,
   "metadata": {},
   "outputs": [],
   "source": [
    "# I'm going to create two columns to use as the main feature in my model.\n",
    "# One is the mostly unaltered title_selftext as it currently exists at this point.\n",
    "# The second will be this column with special characters removed and the words lemmatized."
   ]
  },
  {
   "cell_type": "code",
   "execution_count": 203,
   "metadata": {},
   "outputs": [],
   "source": [
    "# Instantiate lemmatizer:\n",
    "stemmer = WordNetLemmatizer()\n",
    "\n",
    "# Instanciate Porter Stemmer:\n",
    "p_stemmer = PorterStemmer()"
   ]
  },
  {
   "cell_type": "code",
   "execution_count": 204,
   "metadata": {},
   "outputs": [],
   "source": [
    "# Despite the Python subreddit focusing on a programming language, very few posts in my sample appear to contain actual code. \n",
    "# Based on this, I am going to remove special characters and punctuation from my datasets, then stem them in a couple different ways. \n",
    "# Specific RegExp codes and for loop used below were from this article:\n",
    "# https://stackabuse.com/text-classification-with-python-and-scikit-learn/\n",
    "\n",
    "X = all_py['title_selftext']\n",
    "\n",
    "title_selftext_lem = []\n",
    "title_selftext_stem = []\n",
    "\n",
    "for sen in range(0, len(X)):\n",
    "    corpus = re.sub(r'\\W', ' ', str(X[sen]))                        # Remove all the special characters\n",
    "    corpus = re.sub(r'\\s+[a-zA-Z]\\s+', ' ', corpus)                 # remove all single characters\n",
    "    corpus = re.sub(r'\\^[a-zA-Z]\\s+', ' ', corpus)                  # Remove single characters from the start\n",
    "    corpus = re.sub(r'\\s+', ' ', corpus, flags=re.I)                # Substituting multiple spaces with single space\n",
    "    corpus = corpus.lower()                                         # Converting to Lowercase\n",
    "    corpus = corpus.split()                                         # Lemmatization\n",
    "    corpus_lem = [stemmer.lemmatize(word) for word in corpus]\n",
    "    corpus_stem = [p_stemmer.stem(word) for word in corpus]         # Porter Stemming\n",
    "    corpus_lem = ' '.join(corpus_lem)                               # Join tokens back together\n",
    "    corpus_stem = ' '.join(corpus_stem)\n",
    "    title_selftext_lem.append(corpus_lem)                           # Append tokens to lists to be added as columns to df\n",
    "    title_selftext_stem.append(corpus_stem)"
   ]
  },
  {
   "cell_type": "code",
   "execution_count": 205,
   "metadata": {},
   "outputs": [],
   "source": [
    "# Add Lemmatized and P-Stemmed tokens to data frame:\n",
    "\n",
    "all_py['title_selftext_lem'] = title_selftext_lem\n",
    "all_py['title_selftext_stem'] = title_selftext_stem"
   ]
  },
  {
   "cell_type": "code",
   "execution_count": 206,
   "metadata": {},
   "outputs": [
    {
     "data": {
      "text/html": [
       "<div>\n",
       "<style scoped>\n",
       "    .dataframe tbody tr th:only-of-type {\n",
       "        vertical-align: middle;\n",
       "    }\n",
       "\n",
       "    .dataframe tbody tr th {\n",
       "        vertical-align: top;\n",
       "    }\n",
       "\n",
       "    .dataframe thead th {\n",
       "        text-align: right;\n",
       "    }\n",
       "</style>\n",
       "<table border=\"1\" class=\"dataframe\">\n",
       "  <thead>\n",
       "    <tr style=\"text-align: right;\">\n",
       "      <th></th>\n",
       "      <th>id</th>\n",
       "      <th>subreddit</th>\n",
       "      <th>title</th>\n",
       "      <th>selftext</th>\n",
       "      <th>title_selftext</th>\n",
       "      <th>subred</th>\n",
       "      <th>tokens</th>\n",
       "      <th>post_length</th>\n",
       "      <th>title_selftext_lem</th>\n",
       "      <th>title_selftext_stem</th>\n",
       "    </tr>\n",
       "  </thead>\n",
       "  <tbody>\n",
       "    <tr>\n",
       "      <th>0</th>\n",
       "      <td>kk4x0j</td>\n",
       "      <td>Python</td>\n",
       "      <td>Question About Django Models</td>\n",
       "      <td>okay, here is the situation what do I do?\\n\\nI...</td>\n",
       "      <td>Question About Django Models okay, here is the...</td>\n",
       "      <td>1</td>\n",
       "      <td>[Question, About, Django, Models, okay, here, ...</td>\n",
       "      <td>85</td>\n",
       "      <td>question about django model okay here is the s...</td>\n",
       "      <td>question about django model okay here is the s...</td>\n",
       "    </tr>\n",
       "    <tr>\n",
       "      <th>1</th>\n",
       "      <td>kk4n1m</td>\n",
       "      <td>Python</td>\n",
       "      <td>I'm very new to Python and need help coding a ...</td>\n",
       "      <td>NaN</td>\n",
       "      <td>I'm very new to Python and need help coding a ...</td>\n",
       "      <td>1</td>\n",
       "      <td>[I, m, very, new, to, Python, and, need, help,...</td>\n",
       "      <td>41</td>\n",
       "      <td>i very new to python and need help coding calc...</td>\n",
       "      <td>i veri new to python and need help code calcul...</td>\n",
       "    </tr>\n",
       "    <tr>\n",
       "      <th>2</th>\n",
       "      <td>kk4b4f</td>\n",
       "      <td>Python</td>\n",
       "      <td>How to define a complex number in polar form i...</td>\n",
       "      <td>NaN</td>\n",
       "      <td>How to define a complex number in polar form i...</td>\n",
       "      <td>1</td>\n",
       "      <td>[How, to, define, a, complex, number, in, pola...</td>\n",
       "      <td>11</td>\n",
       "      <td>how to define complex number in polar form in ...</td>\n",
       "      <td>how to defin complex number in polar form in p...</td>\n",
       "    </tr>\n",
       "    <tr>\n",
       "      <th>3</th>\n",
       "      <td>kk41hq</td>\n",
       "      <td>Python</td>\n",
       "      <td>Negative binomial distribution issue</td>\n",
       "      <td>[removed]</td>\n",
       "      <td>Negative binomial distribution issue [removed]</td>\n",
       "      <td>1</td>\n",
       "      <td>[Negative, binomial, distribution, issue, remo...</td>\n",
       "      <td>5</td>\n",
       "      <td>negative binomial distribution issue removed</td>\n",
       "      <td>neg binomi distribut issu remov</td>\n",
       "    </tr>\n",
       "    <tr>\n",
       "      <th>4</th>\n",
       "      <td>kk3u6a</td>\n",
       "      <td>Python</td>\n",
       "      <td>Merry Christmas Everyone. I suck at making art...</td>\n",
       "      <td>NaN</td>\n",
       "      <td>Merry Christmas Everyone. I suck at making art...</td>\n",
       "      <td>1</td>\n",
       "      <td>[Merry, Christmas, Everyone, I, suck, at, maki...</td>\n",
       "      <td>15</td>\n",
       "      <td>merry christmas everyone suck at making art so...</td>\n",
       "      <td>merri christma everyon suck at make art so enj...</td>\n",
       "    </tr>\n",
       "  </tbody>\n",
       "</table>\n",
       "</div>"
      ],
      "text/plain": [
       "       id subreddit                                              title  \\\n",
       "0  kk4x0j    Python                       Question About Django Models   \n",
       "1  kk4n1m    Python  I'm very new to Python and need help coding a ...   \n",
       "2  kk4b4f    Python  How to define a complex number in polar form i...   \n",
       "3  kk41hq    Python               Negative binomial distribution issue   \n",
       "4  kk3u6a    Python  Merry Christmas Everyone. I suck at making art...   \n",
       "\n",
       "                                            selftext  \\\n",
       "0  okay, here is the situation what do I do?\\n\\nI...   \n",
       "1                                                NaN   \n",
       "2                                                NaN   \n",
       "3                                          [removed]   \n",
       "4                                                NaN   \n",
       "\n",
       "                                      title_selftext  subred  \\\n",
       "0  Question About Django Models okay, here is the...       1   \n",
       "1  I'm very new to Python and need help coding a ...       1   \n",
       "2  How to define a complex number in polar form i...       1   \n",
       "3     Negative binomial distribution issue [removed]       1   \n",
       "4  Merry Christmas Everyone. I suck at making art...       1   \n",
       "\n",
       "                                              tokens  post_length  \\\n",
       "0  [Question, About, Django, Models, okay, here, ...           85   \n",
       "1  [I, m, very, new, to, Python, and, need, help,...           41   \n",
       "2  [How, to, define, a, complex, number, in, pola...           11   \n",
       "3  [Negative, binomial, distribution, issue, remo...            5   \n",
       "4  [Merry, Christmas, Everyone, I, suck, at, maki...           15   \n",
       "\n",
       "                                  title_selftext_lem  \\\n",
       "0  question about django model okay here is the s...   \n",
       "1  i very new to python and need help coding calc...   \n",
       "2  how to define complex number in polar form in ...   \n",
       "3       negative binomial distribution issue removed   \n",
       "4  merry christmas everyone suck at making art so...   \n",
       "\n",
       "                                 title_selftext_stem  \n",
       "0  question about django model okay here is the s...  \n",
       "1  i veri new to python and need help code calcul...  \n",
       "2  how to defin complex number in polar form in p...  \n",
       "3                    neg binomi distribut issu remov  \n",
       "4  merri christma everyon suck at make art so enj...  "
      ]
     },
     "execution_count": 206,
     "metadata": {},
     "output_type": "execute_result"
    }
   ],
   "source": [
    "all_py.head()"
   ]
  },
  {
   "cell_type": "code",
   "execution_count": 207,
   "metadata": {},
   "outputs": [
    {
     "data": {
      "text/plain": [
       "id                        0\n",
       "subreddit                 0\n",
       "title                     0\n",
       "selftext               1653\n",
       "title_selftext            0\n",
       "subred                    0\n",
       "tokens                    0\n",
       "post_length               0\n",
       "title_selftext_lem        0\n",
       "title_selftext_stem       0\n",
       "dtype: int64"
      ]
     },
     "execution_count": 207,
     "metadata": {},
     "output_type": "execute_result"
    }
   ],
   "source": [
    "# Checking for nulls, since I've removed all single characters.\n",
    "all_py.isnull().sum()"
   ]
  },
  {
   "cell_type": "code",
   "execution_count": 208,
   "metadata": {},
   "outputs": [
    {
     "data": {
      "text/html": [
       "<div>\n",
       "<style scoped>\n",
       "    .dataframe tbody tr th:only-of-type {\n",
       "        vertical-align: middle;\n",
       "    }\n",
       "\n",
       "    .dataframe tbody tr th {\n",
       "        vertical-align: top;\n",
       "    }\n",
       "\n",
       "    .dataframe thead th {\n",
       "        text-align: right;\n",
       "    }\n",
       "</style>\n",
       "<table border=\"1\" class=\"dataframe\">\n",
       "  <thead>\n",
       "    <tr style=\"text-align: right;\">\n",
       "      <th></th>\n",
       "      <th>id</th>\n",
       "      <th>subreddit</th>\n",
       "      <th>title</th>\n",
       "      <th>selftext</th>\n",
       "      <th>title_selftext</th>\n",
       "      <th>subred</th>\n",
       "      <th>tokens</th>\n",
       "      <th>post_length</th>\n",
       "      <th>title_selftext_lem</th>\n",
       "      <th>title_selftext_stem</th>\n",
       "    </tr>\n",
       "  </thead>\n",
       "  <tbody>\n",
       "    <tr>\n",
       "      <th>1553</th>\n",
       "      <td>kduohn</td>\n",
       "      <td>montypython</td>\n",
       "      <td>🤼‍♂️💨</td>\n",
       "      <td>NaN</td>\n",
       "      <td>🤼‍♂️💨</td>\n",
       "      <td>0</td>\n",
       "      <td>[]</td>\n",
       "      <td>0</td>\n",
       "      <td></td>\n",
       "      <td></td>\n",
       "    </tr>\n",
       "    <tr>\n",
       "      <th>2870</th>\n",
       "      <td>eskp0x</td>\n",
       "      <td>montypython</td>\n",
       "      <td>💙💙</td>\n",
       "      <td>NaN</td>\n",
       "      <td>💙💙</td>\n",
       "      <td>0</td>\n",
       "      <td>[]</td>\n",
       "      <td>0</td>\n",
       "      <td></td>\n",
       "      <td></td>\n",
       "    </tr>\n",
       "  </tbody>\n",
       "</table>\n",
       "</div>"
      ],
      "text/plain": [
       "          id    subreddit  title selftext title_selftext  subred tokens  \\\n",
       "1553  kduohn  montypython  🤼‍♂️💨      NaN         🤼‍♂️💨        0     []   \n",
       "2870  eskp0x  montypython     💙💙      NaN            💙💙        0     []   \n",
       "\n",
       "      post_length title_selftext_lem title_selftext_stem  \n",
       "1553            0                                         \n",
       "2870            0                                         "
      ]
     },
     "execution_count": 208,
     "metadata": {},
     "output_type": "execute_result"
    }
   ],
   "source": [
    "# Even though there are no nulls, we could still have blank values. Checking for that:\n",
    "all_py[all_py['title_selftext_lem'] == '']"
   ]
  },
  {
   "cell_type": "code",
   "execution_count": 209,
   "metadata": {},
   "outputs": [
    {
     "data": {
      "text/html": [
       "<div>\n",
       "<style scoped>\n",
       "    .dataframe tbody tr th:only-of-type {\n",
       "        vertical-align: middle;\n",
       "    }\n",
       "\n",
       "    .dataframe tbody tr th {\n",
       "        vertical-align: top;\n",
       "    }\n",
       "\n",
       "    .dataframe thead th {\n",
       "        text-align: right;\n",
       "    }\n",
       "</style>\n",
       "<table border=\"1\" class=\"dataframe\">\n",
       "  <thead>\n",
       "    <tr style=\"text-align: right;\">\n",
       "      <th></th>\n",
       "      <th>id</th>\n",
       "      <th>subreddit</th>\n",
       "      <th>title</th>\n",
       "      <th>selftext</th>\n",
       "      <th>title_selftext</th>\n",
       "      <th>subred</th>\n",
       "      <th>tokens</th>\n",
       "      <th>post_length</th>\n",
       "      <th>title_selftext_lem</th>\n",
       "      <th>title_selftext_stem</th>\n",
       "    </tr>\n",
       "  </thead>\n",
       "  <tbody>\n",
       "    <tr>\n",
       "      <th>1553</th>\n",
       "      <td>kduohn</td>\n",
       "      <td>montypython</td>\n",
       "      <td>🤼‍♂️💨</td>\n",
       "      <td>NaN</td>\n",
       "      <td>🤼‍♂️💨</td>\n",
       "      <td>0</td>\n",
       "      <td>[]</td>\n",
       "      <td>0</td>\n",
       "      <td></td>\n",
       "      <td></td>\n",
       "    </tr>\n",
       "    <tr>\n",
       "      <th>2870</th>\n",
       "      <td>eskp0x</td>\n",
       "      <td>montypython</td>\n",
       "      <td>💙💙</td>\n",
       "      <td>NaN</td>\n",
       "      <td>💙💙</td>\n",
       "      <td>0</td>\n",
       "      <td>[]</td>\n",
       "      <td>0</td>\n",
       "      <td></td>\n",
       "      <td></td>\n",
       "    </tr>\n",
       "  </tbody>\n",
       "</table>\n",
       "</div>"
      ],
      "text/plain": [
       "          id    subreddit  title selftext title_selftext  subred tokens  \\\n",
       "1553  kduohn  montypython  🤼‍♂️💨      NaN         🤼‍♂️💨        0     []   \n",
       "2870  eskp0x  montypython     💙💙      NaN            💙💙        0     []   \n",
       "\n",
       "      post_length title_selftext_lem title_selftext_stem  \n",
       "1553            0                                         \n",
       "2870            0                                         "
      ]
     },
     "execution_count": 209,
     "metadata": {},
     "output_type": "execute_result"
    }
   ],
   "source": [
    "all_py[all_py['title_selftext_stem'] == '']"
   ]
  },
  {
   "cell_type": "code",
   "execution_count": 210,
   "metadata": {},
   "outputs": [
    {
     "data": {
      "text/html": [
       "<div>\n",
       "<style scoped>\n",
       "    .dataframe tbody tr th:only-of-type {\n",
       "        vertical-align: middle;\n",
       "    }\n",
       "\n",
       "    .dataframe tbody tr th {\n",
       "        vertical-align: top;\n",
       "    }\n",
       "\n",
       "    .dataframe thead th {\n",
       "        text-align: right;\n",
       "    }\n",
       "</style>\n",
       "<table border=\"1\" class=\"dataframe\">\n",
       "  <thead>\n",
       "    <tr style=\"text-align: right;\">\n",
       "      <th></th>\n",
       "      <th>id</th>\n",
       "      <th>subreddit</th>\n",
       "      <th>title</th>\n",
       "      <th>selftext</th>\n",
       "      <th>title_selftext</th>\n",
       "      <th>subred</th>\n",
       "      <th>tokens</th>\n",
       "      <th>post_length</th>\n",
       "      <th>title_selftext_lem</th>\n",
       "      <th>title_selftext_stem</th>\n",
       "    </tr>\n",
       "  </thead>\n",
       "  <tbody>\n",
       "    <tr>\n",
       "      <th>1553</th>\n",
       "      <td>kduohn</td>\n",
       "      <td>montypython</td>\n",
       "      <td>🤼‍♂️💨</td>\n",
       "      <td>NaN</td>\n",
       "      <td>🤼‍♂️💨</td>\n",
       "      <td>0</td>\n",
       "      <td>[]</td>\n",
       "      <td>0</td>\n",
       "      <td></td>\n",
       "      <td></td>\n",
       "    </tr>\n",
       "    <tr>\n",
       "      <th>2870</th>\n",
       "      <td>eskp0x</td>\n",
       "      <td>montypython</td>\n",
       "      <td>💙💙</td>\n",
       "      <td>NaN</td>\n",
       "      <td>💙💙</td>\n",
       "      <td>0</td>\n",
       "      <td>[]</td>\n",
       "      <td>0</td>\n",
       "      <td></td>\n",
       "      <td></td>\n",
       "    </tr>\n",
       "  </tbody>\n",
       "</table>\n",
       "</div>"
      ],
      "text/plain": [
       "          id    subreddit  title selftext title_selftext  subred tokens  \\\n",
       "1553  kduohn  montypython  🤼‍♂️💨      NaN         🤼‍♂️💨        0     []   \n",
       "2870  eskp0x  montypython     💙💙      NaN            💙💙        0     []   \n",
       "\n",
       "      post_length title_selftext_lem title_selftext_stem  \n",
       "1553            0                                         \n",
       "2870            0                                         "
      ]
     },
     "execution_count": 210,
     "metadata": {},
     "output_type": "execute_result"
    }
   ],
   "source": [
    "all_py[all_py['post_length'] == 0]"
   ]
  },
  {
   "cell_type": "code",
   "execution_count": 211,
   "metadata": {},
   "outputs": [],
   "source": [
    "# Dropping these two rows from dataset:\n",
    "all_py = all_py[all_py['post_length'] != 0]"
   ]
  },
  {
   "cell_type": "code",
   "execution_count": 212,
   "metadata": {},
   "outputs": [
    {
     "name": "stdout",
     "output_type": "stream",
     "text": [
      "<class 'pandas.core.frame.DataFrame'>\n",
      "Int64Index: 2998 entries, 0 to 2999\n",
      "Data columns (total 10 columns):\n",
      " #   Column               Non-Null Count  Dtype \n",
      "---  ------               --------------  ----- \n",
      " 0   id                   2998 non-null   object\n",
      " 1   subreddit            2998 non-null   object\n",
      " 2   title                2998 non-null   object\n",
      " 3   selftext             1347 non-null   object\n",
      " 4   title_selftext       2998 non-null   object\n",
      " 5   subred               2998 non-null   int64 \n",
      " 6   tokens               2998 non-null   object\n",
      " 7   post_length          2998 non-null   int64 \n",
      " 8   title_selftext_lem   2998 non-null   object\n",
      " 9   title_selftext_stem  2998 non-null   object\n",
      "dtypes: int64(2), object(8)\n",
      "memory usage: 257.6+ KB\n"
     ]
    }
   ],
   "source": [
    "all_py.info()"
   ]
  },
  {
   "cell_type": "markdown",
   "metadata": {},
   "source": [
    "#### Use CountVectorizer to Explore Corpus"
   ]
  },
  {
   "cell_type": "code",
   "execution_count": 155,
   "metadata": {},
   "outputs": [
    {
     "name": "stdout",
     "output_type": "stream",
     "text": [
      "X_train size: 16552\n",
      "X_test size: 7976\n",
      "y_train size: 32144\n",
      "y_test size: 15856\n"
     ]
    }
   ],
   "source": [
    "# First I will explore the title_selftext column (no lemmatization):\n",
    "\n",
    "X = all_py['title_selftext'].tolist()\n",
    "y = all_py['subred']\n",
    "\n",
    "# Split data into training and testing sets:\n",
    "X_train, X_test, y_train, y_test = train_test_split(X, y, test_size=0.33, stratify = y, random_state = 42)\n",
    "\n",
    "print(f'X_train size: {sys.getsizeof(X_train)}')\n",
    "print(f'X_test size: {sys.getsizeof(X_test)}')\n",
    "print(f'y_train size: {sys.getsizeof(y_train)}')\n",
    "print(f'y_test size: {sys.getsizeof(y_test)}')"
   ]
  },
  {
   "cell_type": "code",
   "execution_count": 156,
   "metadata": {},
   "outputs": [
    {
     "data": {
      "text/plain": [
       "CountVectorizer()"
      ]
     },
     "execution_count": 156,
     "metadata": {},
     "output_type": "execute_result"
    }
   ],
   "source": [
    "# Instantiate a CountVectorizer.\n",
    "cvec = CountVectorizer()\n",
    "\n",
    "# Fit the training corpus:\n",
    "cvec.fit(X_train, y_train)"
   ]
  },
  {
   "cell_type": "code",
   "execution_count": 157,
   "metadata": {},
   "outputs": [],
   "source": [
    "# Transform the training & testing corpora:\n",
    "X_train = cvec.transform(X_train)\n",
    "X_test = cvec.transform(X_test)"
   ]
  },
  {
   "cell_type": "code",
   "execution_count": 158,
   "metadata": {},
   "outputs": [
    {
     "name": "stdout",
     "output_type": "stream",
     "text": [
      "(2008, 8214)\n",
      "(990, 8214)\n"
     ]
    }
   ],
   "source": [
    "# Based on the shape of our X_train & X_test, our rows split 66.7% to training and 33.3% to test as expected.\n",
    "# CountVectorizer split the title_selftext field into 8,086 rows, meaning there were that many unique words in the dataset.\n",
    "print(X_train.shape)\n",
    "print(X_test.shape)"
   ]
  },
  {
   "cell_type": "code",
   "execution_count": 225,
   "metadata": {},
   "outputs": [],
   "source": [
    "# Creating custom list of stopwords that include all 'english' plus my own added:\n",
    "# Method found on StackOverflow https://stackoverflow.com/questions/24386489/adding-words-to-scikit-learns-countvectorizers-stop-list/24386751:\n",
    "\n",
    "from sklearn.feature_extraction import text \n",
    "my_added_words = ['python', 'https', 'removed', 'http']\n",
    "my_stop_words = text.ENGLISH_STOP_WORDS.union(my_added_words)"
   ]
  },
  {
   "cell_type": "code",
   "execution_count": 216,
   "metadata": {},
   "outputs": [],
   "source": [
    "X = all_py['title_selftext'].tolist()\n",
    "y = all_py['subred']\n",
    "\n",
    "# Split data into training and testing sets:\n",
    "X_train, X_test, y_train, y_test = train_test_split(X, y, test_size=0.33, stratify = y, random_state = 42)"
   ]
  },
  {
   "cell_type": "code",
   "execution_count": 217,
   "metadata": {},
   "outputs": [
    {
     "data": {
      "text/plain": [
       "CountVectorizer(stop_words=frozenset({'a', 'about', 'above', 'across', 'after',\n",
       "                                      'afterwards', 'again', 'against', 'all',\n",
       "                                      'almost', 'alone', 'along', 'already',\n",
       "                                      'also', 'although', 'always', 'am',\n",
       "                                      'among', 'amongst', 'amoungst', 'amount',\n",
       "                                      'an', 'and', 'another', 'any', 'anyhow',\n",
       "                                      'anyone', 'anything', 'anyway',\n",
       "                                      'anywhere', ...}))"
      ]
     },
     "execution_count": 217,
     "metadata": {},
     "output_type": "execute_result"
    }
   ],
   "source": [
    "# Instantiate a CountVectorizer.\n",
    "cvec = CountVectorizer(stop_words=my_stop_words)\n",
    "\n",
    "# Fit the training corpus:\n",
    "cvec.fit(X_train, y_train)"
   ]
  },
  {
   "cell_type": "code",
   "execution_count": 218,
   "metadata": {},
   "outputs": [],
   "source": [
    "# Transform the training & testing corpora:\n",
    "X_train = cvec.transform(X_train)\n",
    "X_test = cvec.transform(X_test)"
   ]
  },
  {
   "cell_type": "code",
   "execution_count": 219,
   "metadata": {},
   "outputs": [
    {
     "name": "stdout",
     "output_type": "stream",
     "text": [
      "(2008, 7942)\n",
      "(990, 7942)\n"
     ]
    }
   ],
   "source": [
    "# With Stopwords removed, CountVectorizer split the title_selftext field into rows.\n",
    "print(X_train.shape)\n",
    "print(X_test.shape)"
   ]
  },
  {
   "cell_type": "code",
   "execution_count": 220,
   "metadata": {},
   "outputs": [
    {
     "data": {
      "image/png": "[encoded data removed]",
      "text/plain": [
       "<Figure size 432x288 with 1 Axes>"
      ]
     },
     "metadata": {
      "needs_background": "light"
     },
     "output_type": "display_data"
    }
   ],
   "source": [
    "# Look at barchart of 25 most common words exclusing 'english' stopwords and my custom adds:\n",
    "\n",
    "# Turn X_train into dataframe:\n",
    "X_train_df = pd.DataFrame(X_train.todense(),\n",
    "                         columns = cvec.get_feature_names())\n",
    "\n",
    "# Graph top occuring words:\n",
    "X_train_df.sum().sort_values(ascending=False).head(25).plot(kind='bar');"
   ]
  },
  {
   "cell_type": "code",
   "execution_count": 43,
   "metadata": {},
   "outputs": [
    {
     "data": {
      "text/html": [
       "<div>\n",
       "<style scoped>\n",
       "    .dataframe tbody tr th:only-of-type {\n",
       "        vertical-align: middle;\n",
       "    }\n",
       "\n",
       "    .dataframe tbody tr th {\n",
       "        vertical-align: top;\n",
       "    }\n",
       "\n",
       "    .dataframe thead th {\n",
       "        text-align: right;\n",
       "    }\n",
       "</style>\n",
       "<table border=\"1\" class=\"dataframe\">\n",
       "  <thead>\n",
       "    <tr style=\"text-align: right;\">\n",
       "      <th></th>\n",
       "      <th>00</th>\n",
       "      <th>000</th>\n",
       "      <th>01</th>\n",
       "      <th>0206</th>\n",
       "      <th>04</th>\n",
       "      <th>065fae5e4546269edbacce0966bc5d668af1a116</th>\n",
       "      <th>06fe079183ee3713f2212f6e7efec90e830bc92d</th>\n",
       "      <th>07</th>\n",
       "      <th>08</th>\n",
       "      <th>09</th>\n",
       "      <th>...</th>\n",
       "      <th>для</th>\n",
       "      <th>игры</th>\n",
       "      <th>лучшие</th>\n",
       "      <th>мини</th>\n",
       "      <th>онлайн</th>\n",
       "      <th>процесс</th>\n",
       "      <th>сountry</th>\n",
       "      <th>странный</th>\n",
       "      <th>パイソン</th>\n",
       "      <th>モンティ</th>\n",
       "    </tr>\n",
       "  </thead>\n",
       "  <tbody>\n",
       "    <tr>\n",
       "      <th>0</th>\n",
       "      <td>0</td>\n",
       "      <td>0</td>\n",
       "      <td>0</td>\n",
       "      <td>0</td>\n",
       "      <td>0</td>\n",
       "      <td>0</td>\n",
       "      <td>0</td>\n",
       "      <td>0</td>\n",
       "      <td>0</td>\n",
       "      <td>0</td>\n",
       "      <td>...</td>\n",
       "      <td>0</td>\n",
       "      <td>0</td>\n",
       "      <td>0</td>\n",
       "      <td>0</td>\n",
       "      <td>0</td>\n",
       "      <td>0</td>\n",
       "      <td>0</td>\n",
       "      <td>0</td>\n",
       "      <td>0</td>\n",
       "      <td>0</td>\n",
       "    </tr>\n",
       "    <tr>\n",
       "      <th>1</th>\n",
       "      <td>0</td>\n",
       "      <td>0</td>\n",
       "      <td>0</td>\n",
       "      <td>0</td>\n",
       "      <td>0</td>\n",
       "      <td>0</td>\n",
       "      <td>0</td>\n",
       "      <td>0</td>\n",
       "      <td>0</td>\n",
       "      <td>0</td>\n",
       "      <td>...</td>\n",
       "      <td>0</td>\n",
       "      <td>0</td>\n",
       "      <td>0</td>\n",
       "      <td>0</td>\n",
       "      <td>0</td>\n",
       "      <td>0</td>\n",
       "      <td>0</td>\n",
       "      <td>0</td>\n",
       "      <td>0</td>\n",
       "      <td>0</td>\n",
       "    </tr>\n",
       "    <tr>\n",
       "      <th>2</th>\n",
       "      <td>0</td>\n",
       "      <td>0</td>\n",
       "      <td>0</td>\n",
       "      <td>1</td>\n",
       "      <td>0</td>\n",
       "      <td>0</td>\n",
       "      <td>0</td>\n",
       "      <td>0</td>\n",
       "      <td>0</td>\n",
       "      <td>0</td>\n",
       "      <td>...</td>\n",
       "      <td>0</td>\n",
       "      <td>0</td>\n",
       "      <td>0</td>\n",
       "      <td>0</td>\n",
       "      <td>0</td>\n",
       "      <td>0</td>\n",
       "      <td>0</td>\n",
       "      <td>0</td>\n",
       "      <td>0</td>\n",
       "      <td>0</td>\n",
       "    </tr>\n",
       "    <tr>\n",
       "      <th>3</th>\n",
       "      <td>0</td>\n",
       "      <td>0</td>\n",
       "      <td>0</td>\n",
       "      <td>0</td>\n",
       "      <td>0</td>\n",
       "      <td>0</td>\n",
       "      <td>0</td>\n",
       "      <td>0</td>\n",
       "      <td>0</td>\n",
       "      <td>0</td>\n",
       "      <td>...</td>\n",
       "      <td>0</td>\n",
       "      <td>0</td>\n",
       "      <td>0</td>\n",
       "      <td>0</td>\n",
       "      <td>0</td>\n",
       "      <td>0</td>\n",
       "      <td>0</td>\n",
       "      <td>0</td>\n",
       "      <td>0</td>\n",
       "      <td>0</td>\n",
       "    </tr>\n",
       "    <tr>\n",
       "      <th>4</th>\n",
       "      <td>0</td>\n",
       "      <td>0</td>\n",
       "      <td>0</td>\n",
       "      <td>0</td>\n",
       "      <td>0</td>\n",
       "      <td>0</td>\n",
       "      <td>0</td>\n",
       "      <td>0</td>\n",
       "      <td>0</td>\n",
       "      <td>0</td>\n",
       "      <td>...</td>\n",
       "      <td>0</td>\n",
       "      <td>0</td>\n",
       "      <td>0</td>\n",
       "      <td>0</td>\n",
       "      <td>0</td>\n",
       "      <td>0</td>\n",
       "      <td>0</td>\n",
       "      <td>0</td>\n",
       "      <td>0</td>\n",
       "      <td>0</td>\n",
       "    </tr>\n",
       "  </tbody>\n",
       "</table>\n",
       "<p>5 rows × 7812 columns</p>\n",
       "</div>"
      ],
      "text/plain": [
       "   00  000  01  0206  04  065fae5e4546269edbacce0966bc5d668af1a116  \\\n",
       "0   0    0   0     0   0                                         0   \n",
       "1   0    0   0     0   0                                         0   \n",
       "2   0    0   0     1   0                                         0   \n",
       "3   0    0   0     0   0                                         0   \n",
       "4   0    0   0     0   0                                         0   \n",
       "\n",
       "   06fe079183ee3713f2212f6e7efec90e830bc92d  07  08  09  ...  для  игры  \\\n",
       "0                                         0   0   0   0  ...    0     0   \n",
       "1                                         0   0   0   0  ...    0     0   \n",
       "2                                         0   0   0   0  ...    0     0   \n",
       "3                                         0   0   0   0  ...    0     0   \n",
       "4                                         0   0   0   0  ...    0     0   \n",
       "\n",
       "   лучшие  мини  онлайн  процесс  сountry  странный  パイソン  モンティ  \n",
       "0       0     0       0        0        0         0     0     0  \n",
       "1       0     0       0        0        0         0     0     0  \n",
       "2       0     0       0        0        0         0     0     0  \n",
       "3       0     0       0        0        0         0     0     0  \n",
       "4       0     0       0        0        0         0     0     0  \n",
       "\n",
       "[5 rows x 7812 columns]"
      ]
     },
     "execution_count": 43,
     "metadata": {},
     "output_type": "execute_result"
    }
   ],
   "source": [
    "X_train_df.head()"
   ]
  },
  {
   "cell_type": "code",
   "execution_count": 99,
   "metadata": {},
   "outputs": [
    {
     "name": "stdout",
     "output_type": "stream",
     "text": [
      "X_train size: 16552\n",
      "X_test size: 7976\n",
      "y_train size: 32144\n",
      "y_test size: 15856\n"
     ]
    }
   ],
   "source": [
    "# Now I will explore the title_selftext_lem column:\n",
    "\n",
    "X = all_py['title_selftext_lem'].tolist()\n",
    "y = all_py['subred']\n",
    "\n",
    "# Split data into training and testing sets:\n",
    "X_train, X_test, y_train, y_test = train_test_split(X, y, test_size=0.33, stratify = y, random_state = 42)\n",
    "\n",
    "print(f'X_train size: {sys.getsizeof(X_train)}')\n",
    "print(f'X_test size: {sys.getsizeof(X_test)}')\n",
    "print(f'y_train size: {sys.getsizeof(y_train)}')\n",
    "print(f'y_test size: {sys.getsizeof(y_test)}')"
   ]
  },
  {
   "cell_type": "code",
   "execution_count": 100,
   "metadata": {},
   "outputs": [
    {
     "data": {
      "text/plain": [
       "CountVectorizer()"
      ]
     },
     "execution_count": 100,
     "metadata": {},
     "output_type": "execute_result"
    }
   ],
   "source": [
    "# Instantiate a CountVectorizer.\n",
    "cvec = CountVectorizer()\n",
    "\n",
    "# Fit the training corpus:\n",
    "cvec.fit(X_train, y_train)"
   ]
  },
  {
   "cell_type": "code",
   "execution_count": 101,
   "metadata": {},
   "outputs": [],
   "source": [
    "# Transform the training & testing corpora:\n",
    "X_train = cvec.transform(X_train)\n",
    "X_test = cvec.transform(X_test)"
   ]
  },
  {
   "cell_type": "code",
   "execution_count": 102,
   "metadata": {},
   "outputs": [
    {
     "name": "stdout",
     "output_type": "stream",
     "text": [
      "(2008, 7410)\n",
      "(990, 7410)\n"
     ]
    }
   ],
   "source": [
    "# With lemmatization, the total number of unique columns/words has dropped from 8,086 to 7,410.\n",
    "\n",
    "print(X_train.shape)\n",
    "print(X_test.shape)"
   ]
  },
  {
   "cell_type": "code",
   "execution_count": 103,
   "metadata": {},
   "outputs": [
    {
     "data": {
      "image/png": "[encoded data removed]",
      "text/plain": [
       "<Figure size 432x288 with 1 Axes>"
      ]
     },
     "metadata": {
      "needs_background": "light"
     },
     "output_type": "display_data"
    }
   ],
   "source": [
    "# Look at barchart of 25 most common words\n",
    "\n",
    "# Turn X_train into dataframe:\n",
    "X_train_df = pd.DataFrame(X_train.todense(),\n",
    "                         columns = cvec.get_feature_names())\n",
    "\n",
    "# Graph top occuring words:\n",
    "X_train_df.sum().sort_values(ascending=False).head(25).plot(kind='bar');"
   ]
  },
  {
   "cell_type": "code",
   "execution_count": 104,
   "metadata": {},
   "outputs": [],
   "source": [
    "# Now remove stopwords and look at most common:\n",
    "X = all_py['title_selftext_lem'].tolist()\n",
    "y = all_py['subred']\n",
    "\n",
    "# Split data into training and testing sets:\n",
    "X_train, X_test, y_train, y_test = train_test_split(X, y, test_size=0.33, stratify = y, random_state = 42)"
   ]
  },
  {
   "cell_type": "code",
   "execution_count": 105,
   "metadata": {},
   "outputs": [
    {
     "data": {
      "text/plain": [
       "CountVectorizer(stop_words=frozenset({'a', 'about', 'above', 'across', 'after',\n",
       "                                      'afterwards', 'again', 'against', 'all',\n",
       "                                      'almost', 'alone', 'along', 'already',\n",
       "                                      'also', 'although', 'always', 'am',\n",
       "                                      'among', 'amongst', 'amoungst', 'amount',\n",
       "                                      'an', 'and', 'another', 'any', 'anyhow',\n",
       "                                      'anyone', 'anything', 'anyway',\n",
       "                                      'anywhere', ...}))"
      ]
     },
     "execution_count": 105,
     "metadata": {},
     "output_type": "execute_result"
    }
   ],
   "source": [
    "# Instantiate a CountVectorizer.\n",
    "cvec = CountVectorizer(stop_words=my_stop_words)\n",
    "\n",
    "# Fit the training corpus:\n",
    "cvec.fit(X_train, y_train)"
   ]
  },
  {
   "cell_type": "code",
   "execution_count": 106,
   "metadata": {},
   "outputs": [],
   "source": [
    "# Transform the training & testing corpora:\n",
    "X_train = cvec.transform(X_train)\n",
    "X_test = cvec.transform(X_test)"
   ]
  },
  {
   "cell_type": "code",
   "execution_count": 108,
   "metadata": {},
   "outputs": [
    {
     "name": "stdout",
     "output_type": "stream",
     "text": [
      "(2008, 7140)\n",
      "(990, 7140)\n"
     ]
    }
   ],
   "source": [
    "# With Stopwords removed, CountVectorizer split the title_selftext_lem field into 7,140.\n",
    "# This is down from 7,812 rows without lemmatization.\n",
    "print(X_train.shape)\n",
    "print(X_test.shape)"
   ]
  },
  {
   "cell_type": "markdown",
   "metadata": {},
   "source": [
    "### NLP Visualizations\n",
    "#### Top Words by Post\n",
    "Previously I looked at common words across the full datset. But looking at the differences between Python and Monty Python will highlight how well our word variety between the subreddits will influence the predictive power of the models. "
   ]
  },
  {
   "cell_type": "code",
   "execution_count": 287,
   "metadata": {},
   "outputs": [],
   "source": [
    "# Most common words in each Subreddit:\n",
    "\n",
    "# Removing a few words that are common, but don't have to do with the subreddits specifically:\n",
    "custom_words = ['https', 'removed', 'http', 'amp', 'www']\n",
    "new_stop_words = text.ENGLISH_STOP_WORDS.union(custom_words)\n",
    "\n",
    "# Split the df for ease of analysis:\n",
    "pypro = all_py[all_py['subred'] == 1]\n",
    "monty = all_py[all_py['subred'] == 0]\n",
    "\n",
    "# CountVectorize Python data:\n",
    "X_py = pypro['title_selftext'].tolist()\n",
    "y_py = pypro['subred']\n",
    "\n",
    "cv_py = CountVectorizer(stop_words=new_stop_words)\n",
    "cv_py.fit(X_py, y_py)\n",
    "X_py = cv_py.transform(X_py)\n",
    "\n",
    "# CountVectorize MontyPython data:\n",
    "X_mp = monty['title_selftext'].tolist()\n",
    "y_mp = monty['subred']\n",
    "\n",
    "cv_mp = CountVectorizer(stop_words=new_stop_words)\n",
    "cv_mp.fit(X_mp, y_mp)\n",
    "X_mp = cv_mp.transform(X_mp)\n",
    "\n",
    "# Made dataframes of word counts:\n",
    "python = pd.DataFrame(X_py.todense(),\n",
    "                   columns = cv_py.get_feature_names())\n",
    "\n",
    "montypy = pd.DataFrame(X_mp.todense(),\n",
    "                      columns = cv_mp.get_feature_names())"
   ]
  },
  {
   "cell_type": "code",
   "execution_count": 305,
   "metadata": {},
   "outputs": [
    {
     "data": {
      "image/png": "[encoded data removed]",
      "text/plain": [
       "<Figure size 720x648 with 1 Axes>"
      ]
     },
     "metadata": {
      "needs_background": "light"
     },
     "output_type": "display_data"
    },
    {
     "data": {
      "image/png": "[encoded data removed]",
      "text/plain": [
       "<Figure size 720x648 with 1 Axes>"
      ]
     },
     "metadata": {
      "needs_background": "light"
     },
     "output_type": "display_data"
    }
   ],
   "source": [
    "# Look at barchart of 25 most common words for each Subreddit:\n",
    "\n",
    "py = plt.figure(figsize=(10,9))\n",
    "python.sum().sort_values(ascending=False).head(20).plot(kind='barh', color='steelblue', width=.8)\n",
    "plt.title('Python - Most Common Words', fontsize=16)\n",
    "plt.xlabel('Word Frequency', fontsize=14)\n",
    "plt.ylabel('Top 20 Words', fontsize=14)\n",
    "plt.xticks(fontsize=12)\n",
    "plt.yticks(fontsize=12)\n",
    "plt.show();\n",
    "\n",
    "mp = plt.figure(figsize=(10,9))\n",
    "montypy.sum().sort_values(ascending=False).head(20).plot(kind='barh', color='goldenrod', width=.8);\n",
    "plt.title('Monty Python - Most Common Words', fontsize=16)\n",
    "plt.xlabel('Word Frequency', fontsize=14)\n",
    "plt.ylabel('Top 20 Words', fontsize=14)\n",
    "plt.xticks(fontsize=12)\n",
    "plt.yticks(fontsize=12)\n",
    "plt.show();\n",
    "\n",
    "py.savefig(\"./images/topwords_python.png\", bbox_inches='tight')\n",
    "mp.savefig(\"./images/topwords_monty.png\", bbox_inches='tight')"
   ]
  },
  {
   "cell_type": "markdown",
   "metadata": {},
   "source": [
    "#### Post Length by Word Count\n",
    "Only three words are common to the top 20 lists for each subreddit. "
   ]
  },
  {
   "cell_type": "code",
   "execution_count": 306,
   "metadata": {},
   "outputs": [
    {
     "data": {
      "image/png": "[encoded data removed]",
      "text/plain": [
       "<Figure size 720x648 with 1 Axes>"
      ]
     },
     "metadata": {
      "needs_background": "light"
     },
     "output_type": "display_data"
    },
    {
     "data": {
      "image/png": "[encoded data removed]",
      "text/plain": [
       "<Figure size 720x648 with 1 Axes>"
      ]
     },
     "metadata": {
      "needs_background": "light"
     },
     "output_type": "display_data"
    }
   ],
   "source": [
    "\n",
    "\n",
    "mp_posts = monty[monty['post_length'] < 250]\n",
    "py_posts = pypro[pypro['post_length'] < 250]\n",
    "\n",
    "monty_posts = plt.figure(figsize=(10, 9)) \n",
    "plt.hist(mp_posts['post_length'], bins=50, color='indianred')\n",
    "plt.title('Monty Python - Post Length', fontsize=16)\n",
    "plt.xlabel('Post Word Count', fontsize=14)\n",
    "plt.ylabel('Number of Posts', fontsize=14)\n",
    "plt.xticks(fontsize=12)\n",
    "plt.yticks(fontsize=12)\n",
    "plt.show();\n",
    "\n",
    "python_posts = plt.figure(figsize=(10, 9)) \n",
    "plt.hist(py_posts['post_length'], bins=50, color='cadetblue')\n",
    "plt.title('Python - Post Length', fontsize=16)\n",
    "plt.xlabel('Post Word Count', fontsize=14)\n",
    "plt.ylabel('Number of Posts', fontsize=14)\n",
    "plt.xticks(fontsize=12)\n",
    "plt.yticks(fontsize=12)\n",
    "plt.show();\n",
    "\n",
    "python_posts.savefig(\"./images/postlen_python.png\", bbox_inches='tight')\n",
    "monty_posts.savefig(\"./images/postlen_monty.png\", bbox_inches='tight')"
   ]
  },
  {
   "cell_type": "code",
   "execution_count": 286,
   "metadata": {},
   "outputs": [
    {
     "name": "stdout",
     "output_type": "stream",
     "text": [
      "Avg Post Length: 49.6\n",
      "Min Post Length: 1\n",
      "Max Post Length: 1255\n"
     ]
    }
   ],
   "source": [
    "# Get some stats about reddit posts to add to charts:\n",
    "py_post_length = [len(tokens) for tokens in pypro['tokens']]\n",
    "\n",
    "print(f'Avg Post Length: {np.mean(py_post_length).round(1)}')\n",
    "print(f'Min Post Length: {np.min(py_post_length).round(1)}')\n",
    "print(f'Max Post Length: {np.max(py_post_length).round(1)}')"
   ]
  },
  {
   "cell_type": "code",
   "execution_count": 282,
   "metadata": {},
   "outputs": [
    {
     "name": "stdout",
     "output_type": "stream",
     "text": [
      "Avg Post Length: 17.7\n",
      "Min Post Length: 1\n",
      "Max Post Length: 611\n"
     ]
    }
   ],
   "source": [
    "mp_post_length = [len(tokens) for tokens in monty['tokens']]\n",
    "\n",
    "print(f'Avg Post Length: {np.mean(mp_post_length).round(1)}')\n",
    "print(f'Min Post Length: {np.min(mp_post_length).round(1)}')\n",
    "print(f'Max Post Length: {np.max(mp_post_length).round(1)}')"
   ]
  },
  {
   "cell_type": "code",
   "execution_count": 190,
   "metadata": {},
   "outputs": [],
   "source": [
    "# Exporting cvs (remembering to drop index this time) to use for modeling:\n",
    "all_py.to_csv('./data/all_py_2.csv', index=False)"
   ]
  }
 ],
 "metadata": {
  "kernelspec": {
   "display_name": "Python 3",
   "language": "python",
   "name": "python3"
  },
  "language_info": {
   "codemirror_mode": {
    "name": "ipython",
    "version": 3
   },
   "file_extension": ".py",
   "mimetype": "text/x-python",
   "name": "python",
   "nbconvert_exporter": "python",
   "pygments_lexer": "ipython3",
   "version": "3.8.3"
  }
 },
 "nbformat": 4,
 "nbformat_minor": 4
}
