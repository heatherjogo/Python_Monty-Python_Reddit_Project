{
 "cells": [
  {
   "cell_type": "markdown",
   "metadata": {},
   "source": [
    "# Subreddit Classifier Project: Monty Python vs. Python Language\n",
    "## Stage 3: Modeling\n",
    "\n",
    "\n",
    "Now that my data has been cleansed and explored, and I have created new features using NLP techniques, I am ready to start building models to help identify whether a subreddit is appropriate for my marketing campaigns or not. \n",
    "\n",
    "I will start by creating a number of baseline models. The goal here is to try a broad range of classification models all using default parameters, and just the lemmatized title and self-text submission data from my subreddits. The goal is to correctly identify a subreddit as Python or MontyPython 90% or more of the time, so I can accurately target my marketing campaigns toward a data science audience.\n",
    "\n",
    "Once I have a couple of baseline models that show promise, I will tune these to optimize for accuracy and bias/variance tradeoff. "
   ]
  },
  {
   "cell_type": "markdown",
   "metadata": {},
   "source": [
    "#### Notebook Guide:\n",
    "\n",
    "- [Standard Imports](#imports) \n",
    "- [Starter Models](#base_model)\n",
    "    - [Logistic Regression](#logreg_base)\n",
    "    - [Multinomial Naive Bayes](#nb_base)\n",
    "    - [KNN Classifier](#knn_base)\n",
    "    - [Random Forest](#rf_base)\n",
    "    - [Bagged Decision Tree](#bag_base)\n",
    "    - [AdaBoost Classifier](#ada_base)\n",
    "    - [Gradient Boosting](#gb_base)\n",
    "    - [Extreme Gradient Boosting](#xgb_base)   \n",
    "    - [Support Vector Classifier](#svc_base)\n",
    "    - [Voting Classifier](#vote_base)\n",
    "- [Tuned Final Models](#tuned_models)\n",
    "    - [Logistic Regression](#logreg_final)\n",
    "        - [Predicting on Text Data Only](#logreg_lem)\n",
    "        - [Predicting on Text and Numeric](#logreg_fu)\n",
    "    - [AdaBoost Classifier](#ada_final)\n",
    "        - [Predicting on Text Data Only](#ada_lem)\n",
    "        - [Predicting on Text and Numeric](#ada_fu)\n",
    "    - [Multinomial Naive Bayes](#nb_final)\n",
    "- [Model Evaluation](#eval)\n",
    "    - [Model Performance Metrics](#model_metrics)\n",
    "    - [Confusion Matrices](#conf_mtx)\n",
    "    - [Evaluation Summary](#eval_sum)\n"
   ]
  },
  {
   "cell_type": "markdown",
   "metadata": {},
   "source": [
    "<a id='imports'></a>\n",
    "### Standard Imports"
   ]
  },
  {
   "cell_type": "code",
   "execution_count": 171,
   "metadata": {},
   "outputs": [],
   "source": [
    "# Standard imports:\n",
    "import pandas as pd\n",
    "import numpy as np\n",
    "import matplotlib.pyplot as plt\n",
    "import seaborn as sns\n",
    "\n",
    "# NLP imports:\n",
    "from nltk.tokenize import sent_tokenize, word_tokenize, RegexpTokenizer\n",
    "from nltk.stem import WordNetLemmatizer\n",
    "from nltk.stem.porter import PorterStemmer\n",
    "from nltk.corpus import stopwords\n",
    "from nltk.sentiment.vader import SentimentIntensityAnalyzer\n",
    "from nltk import FreqDist, pos_tag\n",
    "from nltk.tokenize import word_tokenize\n",
    "from collections import Counter\n",
    "from sklearn.feature_extraction.text import CountVectorizer, TfidfVectorizer, TfidfTransformer\n",
    "\n",
    "# Estimator and Tranformer imports:\n",
    "from sklearn.pipeline import Pipeline, FeatureUnion\n",
    "from sklearn.preprocessing import StandardScaler, FunctionTransformer\n",
    "from sklearn.model_selection import train_test_split, cross_val_score, GridSearchCV\n",
    "from sklearn.pipeline import Pipeline\n",
    "from sklearn.naive_bayes import MultinomialNB\n",
    "from sklearn.linear_model import LogisticRegression\n",
    "from sklearn.svm import LinearSVC, SVC\n",
    "from sklearn.tree import DecisionTreeClassifier, ExtraTreeClassifier\n",
    "from sklearn.neighbors import KNeighborsClassifier\n",
    "from sklearn.ensemble import RandomForestClassifier, ExtraTreesClassifier, BaggingClassifier\n",
    "from sklearn.ensemble import AdaBoostClassifier, GradientBoostingClassifier, VotingClassifier\n",
    "from xgboost import XGBRegressor, XGBClassifier\n",
    "from sklearn.metrics import confusion_matrix, plot_confusion_matrix\n",
    "from sklearn import metrics\n",
    "\n",
    "# Other useful imports:\n",
    "import sys\n",
    "import time"
   ]
  },
  {
   "cell_type": "code",
   "execution_count": 296,
   "metadata": {},
   "outputs": [],
   "source": [
    "all_py = pd.read_csv('./data/all_py_2.csv')"
   ]
  },
  {
   "cell_type": "code",
   "execution_count": 725,
   "metadata": {},
   "outputs": [
    {
     "name": "stdout",
     "output_type": "stream",
     "text": [
      "<class 'pandas.core.frame.DataFrame'>\n",
      "RangeIndex: 2998 entries, 0 to 2997\n",
      "Data columns (total 10 columns):\n",
      " #   Column               Non-Null Count  Dtype \n",
      "---  ------               --------------  ----- \n",
      " 0   id                   2998 non-null   object\n",
      " 1   subreddit            2998 non-null   object\n",
      " 2   title                2998 non-null   object\n",
      " 3   selftext             1347 non-null   object\n",
      " 4   title_selftext       2998 non-null   object\n",
      " 5   subred               2998 non-null   int64 \n",
      " 6   tokens               2998 non-null   object\n",
      " 7   post_length          2998 non-null   int64 \n",
      " 8   title_selftext_lem   2998 non-null   object\n",
      " 9   title_selftext_stem  2998 non-null   object\n",
      "dtypes: int64(2), object(8)\n",
      "memory usage: 234.3+ KB\n"
     ]
    }
   ],
   "source": [
    "all_py.info()"
   ]
  },
  {
   "cell_type": "markdown",
   "metadata": {},
   "source": [
    "<a id='base_model'></a>\n",
    "### Starter Models\n",
    "As a first step, I am going to do two things:\n",
    "1) Determine which of my text corpora are best to feed into a model: \n",
    "- title_selftext: original title & selftext columns from reddit with no alterations\n",
    "- title_selftext_lem: lemmatized title & selftext\n",
    "- title_selftext_stem: stemmed title & selftext \n",
    "\n",
    "2) Run a variety of classification models to understand their baseline performance with default parameters."
   ]
  },
  {
   "cell_type": "markdown",
   "metadata": {},
   "source": [
    "#### Best Corpus for Modeling:"
   ]
  },
  {
   "cell_type": "code",
   "execution_count": 321,
   "metadata": {},
   "outputs": [],
   "source": [
    "# Setting up X and y variables:\n",
    "X_orig = all_py['title_selftext'].tolist()\n",
    "X_lem = all_py['title_selftext_lem'].tolist()\n",
    "X_stem = all_py['title_selftext_stem'].tolist()\n",
    "y = all_py['subred']\n",
    "\n",
    "# Split data into training and testing sets:\n",
    "X_train_orig, X_test_orig, y_train_orig, y_test_orig = train_test_split(X_orig, y, test_size=0.33, stratify = y, random_state = 42)\n",
    "X_train_lem, X_test_lem, y_train_lem, y_test_lem = train_test_split(X_lem, y, test_size=0.33, stratify = y, random_state = 42)\n",
    "X_train_stem, X_test_stem, y_train_stem, y_test_stem = train_test_split(X_stem, y, test_size=0.33, stratify = y, random_state = 42)\n",
    "\n",
    "# Instantiate a CountVectorizer:\n",
    "cvec = CountVectorizer()\n",
    "cv_lem = CountVectorizer()\n",
    "cv_stem = CountVectorizer()\n",
    "\n",
    "# Fit the training corpus:\n",
    "cvec.fit(X_train_orig, y_train_orig)\n",
    "cv_lem.fit(X_train_lem, y_train_lem)\n",
    "cv_stem.fit(X_train_stem, y_train_stem)\n",
    "\n",
    "# Transform the training & testing corpora:\n",
    "Z_train_orig = cvec.transform(X_train_orig)\n",
    "Z_test_orig = cvec.transform(X_test_orig)\n",
    "\n",
    "Z_train_lem = cv_lem.transform(X_train_lem)\n",
    "Z_test_lem = cv_lem.transform(X_test_lem)\n",
    "\n",
    "Z_train_stem = cv_stem.transform(X_train_stem)\n",
    "Z_test_stem = cv_stem.transform(X_test_stem)"
   ]
  },
  {
   "cell_type": "code",
   "execution_count": 322,
   "metadata": {},
   "outputs": [
    {
     "name": "stdout",
     "output_type": "stream",
     "text": [
      "LOGISTIC REGRESSION SCORES\n",
      "Original Corpus:\n",
      "Training: 0.9866\n",
      "Testing: 0.903\n",
      "\n",
      "Lemmatized Corpus:\n",
      "Training: 0.9861\n",
      "Testing: 0.9074\n",
      "\n",
      "Stemmed Corpus:\n",
      "Training: 0.9866\n",
      "Testing: 0.9156\n",
      "\n",
      "NAIVE BAYES SCORES\n",
      "Original Corpus:\n",
      "Training: 0.9688\n",
      "Testing: 0.9146\n",
      "\n",
      "Lemmatized Corpus:\n",
      "Training: 0.9674\n",
      "Testing: 0.9184\n",
      "\n",
      "Stemmed Corpus:\n",
      "Training: 0.9655\n",
      "Testing: 0.9129\n",
      "\n",
      "ADABOOST SCORES\n",
      "Original Corpus:\n",
      "Training: 0.9275\n",
      "Testing: 0.8819\n",
      "\n",
      "Lemmatized Corpus:\n",
      "Training: 0.9267\n",
      "Testing: 0.8774\n",
      "\n",
      "Stemmed Corpus:\n",
      "Training: 0.9288\n",
      "Testing: 0.8905\n",
      "\n",
      "SUPPORT VECTOR SCORES\n",
      "Original Corpus:\n",
      "Training: 0.9975\n",
      "Testing: 0.9158\n",
      "\n",
      "Lemmatized Corpus:\n",
      "Training: 0.9975\n",
      "Testing: 0.9223\n",
      "\n",
      "Stemmed Corpus:\n",
      "Training: 0.9975\n",
      "Testing: 0.9218\n",
      "\n"
     ]
    }
   ],
   "source": [
    "train_test = [(Z_train_orig, y_train_orig, Z_test_orig, y_test_orig, 'Original Corpus'), \n",
    "              (Z_train_lem, y_train_lem, Z_test_lem, y_test_lem, 'Lemmatized Corpus'), \n",
    "              (Z_train_stem, y_train_stem, Z_test_stem, y_test_stem, 'Stemmed Corpus')]\n",
    "\n",
    "print('LOGISTIC REGRESSION SCORES')\n",
    "for Z, y, Zt, yt, corp in train_test:\n",
    "    logreg = LogisticRegression()\n",
    "    logreg.fit(Z, y)\n",
    "\n",
    "    print(corp + ':')\n",
    "    print(f'Training: {metrics.f1_score(y, logreg.predict(Z)).round(4)}')\n",
    "    print(f'Testing: {metrics.f1_score(yt, logreg.predict(Zt)).round(4)}')\n",
    "    print()\n",
    "    \n",
    "print('NAIVE BAYES SCORES')\n",
    "for Z, y, Zt, yt, corp in train_test:\n",
    "    mnb = MultinomialNB()\n",
    "    mnb.fit(Z, y)\n",
    "    print(corp + ':')\n",
    "    print(f'Training: {metrics.f1_score(y, mnb.predict(Z)).round(4)}')\n",
    "    print(f'Testing: {metrics.f1_score(yt, mnb.predict(Zt)).round(4)}')\n",
    "    print()\n",
    "    \n",
    "print('ADABOOST SCORES')\n",
    "for Z, y, Zt, yt, corp in train_test:\n",
    "    ada = AdaBoostClassifier()\n",
    "    ada.fit(Z, y)\n",
    "    print(corp + ':')\n",
    "    print(f'Training: {metrics.f1_score(y, ada.predict(Z)).round(4)}')\n",
    "    print(f'Testing: {metrics.f1_score(yt, ada.predict(Zt)).round(4)}')\n",
    "    print()\n",
    "    \n",
    "print('SUPPORT VECTOR SCORES')\n",
    "for Z, y, Zt, yt, corp in train_test:\n",
    "    svc = LinearSVC()\n",
    "    svc.fit(Z, y)\n",
    "    print(corp + ':')\n",
    "    print(f'Training: {metrics.f1_score(y, svc.predict(Z)).round(4)}')\n",
    "    print(f'Testing: {metrics.f1_score(yt, svc.predict(Zt)).round(4)}')\n",
    "    print()"
   ]
  },
  {
   "cell_type": "markdown",
   "metadata": {},
   "source": [
    "**With the exception of Naive Bayes, the Stemmed Corpus did the best at generating strong accuracy in the training set, and generaled to the test data better than other corpora. Moving forward, I will use the Stemmed corpus for modeling.**"
   ]
  },
  {
   "cell_type": "markdown",
   "metadata": {},
   "source": [
    "#### Starter Models"
   ]
  },
  {
   "cell_type": "code",
   "execution_count": 573,
   "metadata": {},
   "outputs": [],
   "source": [
    "# Setting Stemmed training and testing data as model variables:\n",
    "Z_train = Z_train_stem\n",
    "Z_test = Z_test_stem\n",
    "y_train = y_train_stem\n",
    "y_test = y_test_stem"
   ]
  },
  {
   "cell_type": "markdown",
   "metadata": {},
   "source": [
    "<a id='logreg_base'></a>\n",
    "**Logistic Regression**"
   ]
  },
  {
   "cell_type": "code",
   "execution_count": 574,
   "metadata": {},
   "outputs": [
    {
     "name": "stdout",
     "output_type": "stream",
     "text": [
      "Training: 0.9866\n",
      "Testing: 0.9156\n"
     ]
    }
   ],
   "source": [
    "log_base = LogisticRegression()\n",
    "log_base.fit(Z_train, y_train)\n",
    "print(f'Training: {metrics.f1_score(y_train, log_base.predict(Z_train)).round(4)}')\n",
    "print(f'Testing: {metrics.f1_score(y_test, log_base.predict(Z_test)).round(4)}')"
   ]
  },
  {
   "cell_type": "markdown",
   "metadata": {},
   "source": [
    "<a id='nb_base'></a>\n",
    "**Multinomial Naive Bayes**"
   ]
  },
  {
   "cell_type": "code",
   "execution_count": 575,
   "metadata": {},
   "outputs": [
    {
     "name": "stdout",
     "output_type": "stream",
     "text": [
      "Training: 0.9655\n",
      "Testing: 0.9129\n"
     ]
    }
   ],
   "source": [
    "nb_base = MultinomialNB()\n",
    "nb_base.fit(Z_train, y_train)\n",
    "print(f'Training: {metrics.f1_score(y_train, nb_base.predict(Z_train)).round(4)}')\n",
    "print(f'Testing: {metrics.f1_score(y_test, nb_base.predict(Z_test)).round(4)}')"
   ]
  },
  {
   "cell_type": "markdown",
   "metadata": {},
   "source": [
    "<a id='knn_base'></a>\n",
    "**KNN**"
   ]
  },
  {
   "cell_type": "code",
   "execution_count": 576,
   "metadata": {},
   "outputs": [
    {
     "name": "stdout",
     "output_type": "stream",
     "text": [
      "Training: 0.8751\n",
      "Testing: 0.8005\n"
     ]
    }
   ],
   "source": [
    "knn_base = KNeighborsClassifier()\n",
    "knn_base.fit(Z_train, y_train)\n",
    "print(f'Training: {metrics.f1_score(y_train, knn_base.predict(Z_train)).round(4)}')\n",
    "print(f'Testing: {metrics.f1_score(y_test, knn_base.predict(Z_test)).round(4)}')"
   ]
  },
  {
   "cell_type": "markdown",
   "metadata": {},
   "source": [
    "<a id='rf_base'></a>\n",
    "**Random Forest**"
   ]
  },
  {
   "cell_type": "code",
   "execution_count": 577,
   "metadata": {},
   "outputs": [
    {
     "name": "stdout",
     "output_type": "stream",
     "text": [
      "Training: 0.998\n",
      "Testing: 0.9201\n"
     ]
    }
   ],
   "source": [
    "rf_base = RandomForestClassifier(random_state=42)\n",
    "rf_base.fit(Z_train, y_train)\n",
    "print(f'Training: {metrics.f1_score(y_train, rf_base.predict(Z_train)).round(4)}')\n",
    "print(f'Testing: {metrics.f1_score(y_test, rf_base.predict(Z_test)).round(4)}')"
   ]
  },
  {
   "cell_type": "markdown",
   "metadata": {},
   "source": [
    "<a id='bag_base'></a>\n",
    "**Bagged Decision Tree**"
   ]
  },
  {
   "cell_type": "code",
   "execution_count": 578,
   "metadata": {},
   "outputs": [
    {
     "name": "stdout",
     "output_type": "stream",
     "text": [
      "Training: 0.99\n",
      "Testing: 0.8914\n"
     ]
    }
   ],
   "source": [
    "bag_base = BaggingClassifier(random_state=42)\n",
    "bag_base.fit(Z_train, y_train)\n",
    "print(f'Training: {metrics.f1_score(y_train, bag_base.predict(Z_train)).round(4)}')\n",
    "print(f'Testing: {metrics.f1_score(y_test, bag_base.predict(Z_test)).round(4)}')"
   ]
  },
  {
   "cell_type": "markdown",
   "metadata": {},
   "source": [
    "<a id='ada_base'></a>\n",
    "**AdaBoost Classifier**"
   ]
  },
  {
   "cell_type": "code",
   "execution_count": 579,
   "metadata": {},
   "outputs": [
    {
     "name": "stdout",
     "output_type": "stream",
     "text": [
      "Training: 0.9288\n",
      "Testing: 0.8905\n"
     ]
    }
   ],
   "source": [
    "ada_base = AdaBoostClassifier(random_state=42)\n",
    "ada_base.fit(Z_train, y_train)\n",
    "print(f'Training: {metrics.f1_score(y_train, ada_base.predict(Z_train)).round(4)}')\n",
    "print(f'Testing: {metrics.f1_score(y_test, ada_base.predict(Z_test)).round(4)}')"
   ]
  },
  {
   "cell_type": "markdown",
   "metadata": {},
   "source": [
    "<a id='gb_base'></a>\n",
    "**Gradient Boosting**"
   ]
  },
  {
   "cell_type": "code",
   "execution_count": 580,
   "metadata": {},
   "outputs": [
    {
     "name": "stdout",
     "output_type": "stream",
     "text": [
      "Training: 0.9217\n",
      "Testing: 0.8758\n"
     ]
    }
   ],
   "source": [
    "gb_base = GradientBoostingClassifier(random_state=42)\n",
    "gb_base.fit(Z_train, y_train)\n",
    "print(f'Training: {metrics.f1_score(y_train, gb_base.predict(Z_train)).round(4)}')\n",
    "print(f'Testing: {metrics.f1_score(y_test, gb_base.predict(Z_test)).round(4)}')"
   ]
  },
  {
   "cell_type": "markdown",
   "metadata": {},
   "source": [
    "<a id='xgb_base'></a>\n",
    "**XGB Boosting Classifier**"
   ]
  },
  {
   "cell_type": "code",
   "execution_count": 581,
   "metadata": {},
   "outputs": [
    {
     "name": "stdout",
     "output_type": "stream",
     "text": [
      "Training: 0.9719\n",
      "Testing: 0.9042\n"
     ]
    }
   ],
   "source": [
    "xgb_base = XGBClassifier(use_label_encoder=False, eval_metric='error', random_state=42)\n",
    "xgb_base.fit(Z_train, y_train)\n",
    "print(f'Training: {metrics.f1_score(y_train, xgb_base.predict(Z_train)).round(4)}')\n",
    "print(f'Testing: {metrics.f1_score(y_test, xgb_base.predict(Z_test)).round(4)}')"
   ]
  },
  {
   "cell_type": "markdown",
   "metadata": {},
   "source": [
    "<a id='svc_base'></a>\n",
    "**Support Vector Classifier**"
   ]
  },
  {
   "cell_type": "code",
   "execution_count": 582,
   "metadata": {},
   "outputs": [
    {
     "name": "stdout",
     "output_type": "stream",
     "text": [
      "Training: 0.922\n",
      "Testing: 0.8726\n"
     ]
    }
   ],
   "source": [
    "svc_base = SVC(random_state=42)\n",
    "svc_base.fit(Z_train, y_train)\n",
    "print(f'Training: {metrics.f1_score(y_train, svc_base.predict(Z_train)).round(4)}')\n",
    "print(f'Testing: {metrics.f1_score(y_test, svc_base.predict(Z_test)).round(4)}')"
   ]
  },
  {
   "cell_type": "markdown",
   "metadata": {},
   "source": [
    "<a id='vote_base'></a>\n",
    "**Voting Classifier**"
   ]
  },
  {
   "cell_type": "code",
   "execution_count": 583,
   "metadata": {},
   "outputs": [
    {
     "name": "stdout",
     "output_type": "stream",
     "text": [
      "Training: 0.932\n",
      "Testing: 0.8905\n"
     ]
    }
   ],
   "source": [
    "vote_base = VotingClassifier([\n",
    "    ('ada', AdaBoostClassifier(random_state=42)),\n",
    "    ('gb', GradientBoostingClassifier(random_state=42)),\n",
    "#    ('xgb', XGBClassifier(use_label_encoder=False, eval_metric='error')),    \n",
    "#    ('knn', KNeighborsClassif`ier()),\n",
    "    ('svc', SVC(random_state=42)),\n",
    "    ('nb', MultinomialNB())\n",
    "])\n",
    "vote_base.fit(Z_train, y_train)\n",
    "print(f'Training: {metrics.f1_score(y_train, vote_base.predict(Z_train)).round(4)}')\n",
    "print(f'Testing: {metrics.f1_score(y_test, ada_base.predict(Z_test)).round(4)}')"
   ]
  },
  {
   "cell_type": "code",
   "execution_count": 665,
   "metadata": {},
   "outputs": [],
   "source": [
    "# model_scores = pd.DataFrame(columns = ['Model', 'Testing F1', 'Training F1'])\n",
    "\n",
    "models = [log_base, nb_base, knn_base, rf_base, ada_base, bag_base, gb_base, xgb_base, svc_base, vote_base]\n",
    "\n",
    "model = 'Baseline Model'\n",
    "train_score = .5101 # metrics.f1_score(y_train, log_base.predict(Z_train)).round(4)\n",
    "test_score = .4993 # metrics.f1_score(y_test, log_base.predict(Z_test)).round(4)\n",
    "\n",
    "model_scores = model_scores.append({'Model' : model,\n",
    "                     'Testing F1' : test_score, \n",
    "                     'Training F1' : train_score}, \n",
    "                 ignore_index = True)\n",
    "\n",
    "# model_scores2 = []\n",
    "# for m in models:\n",
    "#     train_preds = m.predict(Z_train)\n",
    "#     test_preds = m.predict(Z_test)\n",
    "#     train_score = metrics.f1_score(y_train, train_preds).round(4)\n",
    "#     test_score = metrics.f1_score(y_test, test_preds).round(4)\n",
    "#     model_scores2.append({'Model' : m, 'Training F1' : train_score, 'Testing F1' : test_score}) \n"
   ]
  },
  {
   "cell_type": "code",
   "execution_count": 666,
   "metadata": {},
   "outputs": [
    {
     "data": {
      "text/html": [
       "<div>\n",
       "<style scoped>\n",
       "    .dataframe tbody tr th:only-of-type {\n",
       "        vertical-align: middle;\n",
       "    }\n",
       "\n",
       "    .dataframe tbody tr th {\n",
       "        vertical-align: top;\n",
       "    }\n",
       "\n",
       "    .dataframe thead th {\n",
       "        text-align: right;\n",
       "    }\n",
       "</style>\n",
       "<table border=\"1\" class=\"dataframe\">\n",
       "  <thead>\n",
       "    <tr style=\"text-align: right;\">\n",
       "      <th></th>\n",
       "      <th>Model</th>\n",
       "      <th>Testing F1</th>\n",
       "      <th>Training F1</th>\n",
       "    </tr>\n",
       "  </thead>\n",
       "  <tbody>\n",
       "    <tr>\n",
       "      <th>0</th>\n",
       "      <td>Voting Classifier</td>\n",
       "      <td>0.8906</td>\n",
       "      <td>0.9320</td>\n",
       "    </tr>\n",
       "    <tr>\n",
       "      <th>1</th>\n",
       "      <td>Support Vector Classifier</td>\n",
       "      <td>0.8726</td>\n",
       "      <td>0.9220</td>\n",
       "    </tr>\n",
       "    <tr>\n",
       "      <th>2</th>\n",
       "      <td>X Gradient Boosting</td>\n",
       "      <td>0.9042</td>\n",
       "      <td>0.9719</td>\n",
       "    </tr>\n",
       "    <tr>\n",
       "      <th>3</th>\n",
       "      <td>Gradient Boosting</td>\n",
       "      <td>0.8758</td>\n",
       "      <td>0.9217</td>\n",
       "    </tr>\n",
       "    <tr>\n",
       "      <th>4</th>\n",
       "      <td>AdaBoost Classifier</td>\n",
       "      <td>0.8905</td>\n",
       "      <td>0.9288</td>\n",
       "    </tr>\n",
       "    <tr>\n",
       "      <th>5</th>\n",
       "      <td>Bagging Classifier</td>\n",
       "      <td>0.8914</td>\n",
       "      <td>0.9900</td>\n",
       "    </tr>\n",
       "    <tr>\n",
       "      <th>6</th>\n",
       "      <td>Random Forest</td>\n",
       "      <td>0.9201</td>\n",
       "      <td>0.9980</td>\n",
       "    </tr>\n",
       "    <tr>\n",
       "      <th>7</th>\n",
       "      <td>KNN Classifier</td>\n",
       "      <td>0.8005</td>\n",
       "      <td>0.8751</td>\n",
       "    </tr>\n",
       "    <tr>\n",
       "      <th>8</th>\n",
       "      <td>Multinomial Naive Bayes</td>\n",
       "      <td>0.9129</td>\n",
       "      <td>0.9655</td>\n",
       "    </tr>\n",
       "    <tr>\n",
       "      <th>9</th>\n",
       "      <td>Logistic Regression</td>\n",
       "      <td>0.9156</td>\n",
       "      <td>0.9866</td>\n",
       "    </tr>\n",
       "    <tr>\n",
       "      <th>10</th>\n",
       "      <td>Baseline Model</td>\n",
       "      <td>0.4993</td>\n",
       "      <td>0.5101</td>\n",
       "    </tr>\n",
       "  </tbody>\n",
       "</table>\n",
       "</div>"
      ],
      "text/plain": [
       "                        Model  Testing F1  Training F1\n",
       "0           Voting Classifier      0.8906       0.9320\n",
       "1   Support Vector Classifier      0.8726       0.9220\n",
       "2         X Gradient Boosting      0.9042       0.9719\n",
       "3           Gradient Boosting      0.8758       0.9217\n",
       "4         AdaBoost Classifier      0.8905       0.9288\n",
       "5          Bagging Classifier      0.8914       0.9900\n",
       "6               Random Forest      0.9201       0.9980\n",
       "7              KNN Classifier      0.8005       0.8751\n",
       "8     Multinomial Naive Bayes      0.9129       0.9655\n",
       "9         Logistic Regression      0.9156       0.9866\n",
       "10             Baseline Model      0.4993       0.5101"
      ]
     },
     "execution_count": 666,
     "metadata": {},
     "output_type": "execute_result"
    }
   ],
   "source": [
    "model_scores"
   ]
  },
  {
   "cell_type": "code",
   "execution_count": 667,
   "metadata": {},
   "outputs": [],
   "source": [
    "model_scores.set_index('Model', inplace=True)"
   ]
  },
  {
   "cell_type": "code",
   "execution_count": 718,
   "metadata": {},
   "outputs": [
    {
     "data": {
      "image/png": "[encoded data removed]",
      "text/plain": [
       "<Figure size 648x288 with 1 Axes>"
      ]
     },
     "metadata": {
      "needs_background": "light"
     },
     "output_type": "display_data"
    }
   ],
   "source": [
    "# Create plot showing traing and testing F1 scores for all the starter models using Stemmed corpus as X variable:\n",
    "\n",
    "# mod_scores = model_scores.plot(kind='barh', figsize=(10,6), legend='reverse', colormap='Paired', fontsize=12)\n",
    "# plt.title(\"Starter Model F1 Scores\")\n",
    "# plt.xlabel('Accuracy Score');\n",
    "# plt.show();\n",
    "\n",
    "mod_scores2 = plt.figure(figsize=(9, 4)) \n",
    "plt.xlabel('Accuracy Score', fontsize=14)\n",
    "plt.ylabel('Model Type', fontsize=14)\n",
    "plt.xticks(fontsize=12)\n",
    "plt.yticks(fontsize=12)\n",
    "plt.title('Starter Model F1 Scores', fontsize=16)\n",
    "train = plt.barh(model_scores.index, model_scores['Training F1'], height=.8, color='palevioletred')\n",
    "test = plt.barh(model_scores.index, model_scores['Testing F1'], height=.4, color='mediumaquamarine')\n",
    "plt.legend((train, test), ('Training F1', 'Testing F1'), fontsize=7)\n",
    "plt.show();"
   ]
  },
  {
   "cell_type": "code",
   "execution_count": 719,
   "metadata": {},
   "outputs": [],
   "source": [
    "mod_scores2.savefig(\"./images/startmodel_scores.png\", bbox_inches='tight')"
   ]
  },
  {
   "cell_type": "markdown",
   "metadata": {},
   "source": [
    "<a id='tuned_models'></a>\n",
    "### Tuned Final Models"
   ]
  },
  {
   "cell_type": "markdown",
   "metadata": {},
   "source": [
    "Despite high variance for some models, many are generalizing to new data with 90% or higher accuracy which accomplishes my goal. I am going to focus on honing two models, one that will allow for better evaluation and one that optimizes accuracy with bias/variance tradeoff:\n",
    "* Logistic Regression = accuacy + explanability\n",
    "* Naive Bayes = accuracy + lower varaince\n"
   ]
  },
  {
   "cell_type": "markdown",
   "metadata": {},
   "source": [
    "<a id='logreg_final'></a>\n",
    "#### Logistic Regression Model"
   ]
  },
  {
   "cell_type": "markdown",
   "metadata": {},
   "source": [
    "<a id='logreg_lem'></a>\n",
    "**Predicting on Text Data Only**\\\n",
    "As a starting point, I will model on my stemmed text corpus only. In the baseline models, the lemmatized corpus performed sligthly better than the non-lemmatized one for some models."
   ]
  },
  {
   "cell_type": "code",
   "execution_count": 722,
   "metadata": {},
   "outputs": [],
   "source": [
    "# Create X and y variables:\n",
    "X_stem = all_py['title_selftext_stem'].tolist()\n",
    "y = all_py['subred']\n",
    "\n",
    "# Split data into training and testing sets:\n",
    "Z_train, Z_test, y_train, y_test = train_test_split(X_stem, y, test_size=0.33, stratify = y, random_state = 42)\n"
   ]
  },
  {
   "cell_type": "code",
   "execution_count": 383,
   "metadata": {},
   "outputs": [],
   "source": [
    "# Creating custom list of stopwords that include all 'english' plus my own added:\n",
    "\n",
    "from sklearn.feature_extraction import text \n",
    "my_added_words = ['python', 'https', 'removed', 'http', 'amp']\n",
    "my_stop_words = text.ENGLISH_STOP_WORDS.union(my_added_words)"
   ]
  },
  {
   "cell_type": "code",
   "execution_count": 384,
   "metadata": {},
   "outputs": [],
   "source": [
    "# Set up a pipeline with CountVectorizer and TfidfTransformer as our transformers, and Logistic Regression as our estimator:\n",
    "# Credit for the idea of pairing TfidfTransformer with CountVectorizer is from this article: \n",
    "# https://towardsdatascience.com/sentiment-analysis-of-tweets-using-multinomial-naive-bayes-1009ed24276b\n",
    "\n",
    "lr_pipe = Pipeline([('cvec', CountVectorizer()),\n",
    "                 ('tfidf', TfidfTransformer()),\n",
    "                 ('logreg', LogisticRegression(solver = 'liblinear', max_iter=10_000))\n",
    "                ])"
   ]
  },
  {
   "cell_type": "code",
   "execution_count": 385,
   "metadata": {},
   "outputs": [],
   "source": [
    "# Set pipe parameters for GridSearch:\n",
    "lr_pipe_params = {\n",
    "    'cvec__max_features': [3750, 4500, 5500],\n",
    "    'cvec__min_df': [1,2],\n",
    "    'cvec__max_df': [.75, .8], \n",
    "    'cvec__ngram_range' : [(1,1), (1,2), (1,3)],\n",
    "    'cvec__stop_words' : [None, 'english', my_stop_words],\n",
    "    'tfidf__use_idf': (True, False),\n",
    "    'tfidf__norm': ('l1', 'l2'),\n",
    "    'logreg__penalty':['l1', 'l2'],\n",
    "}\n",
    "TfidfTransformer()"
   ]
  },
  {
   "cell_type": "code",
   "execution_count": 386,
   "metadata": {},
   "outputs": [],
   "source": [
    "# Set up the GridSearch:\n",
    "gs_lr_lem = GridSearchCV(lr_pipe,\n",
    "                      lr_pipe_params,\n",
    "                      cv = 5,\n",
    "                      verbose=1,\n",
    "                      n_jobs=1)"
   ]
  },
  {
   "cell_type": "code",
   "execution_count": 387,
   "metadata": {},
   "outputs": [
    {
     "name": "stdout",
     "output_type": "stream",
     "text": [
      "Fitting 5 folds for each of 864 candidates, totalling 4320 fits\n"
     ]
    },
    {
     "name": "stderr",
     "output_type": "stream",
     "text": [
      "[Parallel(n_jobs=1)]: Using backend SequentialBackend with 1 concurrent workers.\n",
      "/Users/heatherjohansen/opt/anaconda3/lib/python3.8/site-packages/sklearn/svm/_base.py:976: ConvergenceWarning: Liblinear failed to converge, increase the number of iterations.\n",
      "  warnings.warn(\"Liblinear failed to converge, increase \"\n",
      "/Users/heatherjohansen/opt/anaconda3/lib/python3.8/site-packages/sklearn/svm/_base.py:976: ConvergenceWarning: Liblinear failed to converge, increase the number of iterations.\n",
      "  warnings.warn(\"Liblinear failed to converge, increase \"\n",
      "/Users/heatherjohansen/opt/anaconda3/lib/python3.8/site-packages/sklearn/svm/_base.py:976: ConvergenceWarning: Liblinear failed to converge, increase the number of iterations.\n",
      "  warnings.warn(\"Liblinear failed to converge, increase \"\n",
      "/Users/heatherjohansen/opt/anaconda3/lib/python3.8/site-packages/sklearn/svm/_base.py:976: ConvergenceWarning: Liblinear failed to converge, increase the number of iterations.\n",
      "  warnings.warn(\"Liblinear failed to converge, increase \"\n",
      "/Users/heatherjohansen/opt/anaconda3/lib/python3.8/site-packages/sklearn/svm/_base.py:976: ConvergenceWarning: Liblinear failed to converge, increase the number of iterations.\n",
      "  warnings.warn(\"Liblinear failed to converge, increase \"\n",
      "/Users/heatherjohansen/opt/anaconda3/lib/python3.8/site-packages/sklearn/svm/_base.py:976: ConvergenceWarning: Liblinear failed to converge, increase the number of iterations.\n",
      "  warnings.warn(\"Liblinear failed to converge, increase \"\n",
      "/Users/heatherjohansen/opt/anaconda3/lib/python3.8/site-packages/sklearn/svm/_base.py:976: ConvergenceWarning: Liblinear failed to converge, increase the number of iterations.\n",
      "  warnings.warn(\"Liblinear failed to converge, increase \"\n",
      "/Users/heatherjohansen/opt/anaconda3/lib/python3.8/site-packages/sklearn/svm/_base.py:976: ConvergenceWarning: Liblinear failed to converge, increase the number of iterations.\n",
      "  warnings.warn(\"Liblinear failed to converge, increase \"\n",
      "/Users/heatherjohansen/opt/anaconda3/lib/python3.8/site-packages/sklearn/svm/_base.py:976: ConvergenceWarning: Liblinear failed to converge, increase the number of iterations.\n",
      "  warnings.warn(\"Liblinear failed to converge, increase \"\n",
      "/Users/heatherjohansen/opt/anaconda3/lib/python3.8/site-packages/sklearn/svm/_base.py:976: ConvergenceWarning: Liblinear failed to converge, increase the number of iterations.\n",
      "  warnings.warn(\"Liblinear failed to converge, increase \"\n",
      "/Users/heatherjohansen/opt/anaconda3/lib/python3.8/site-packages/sklearn/svm/_base.py:976: ConvergenceWarning: Liblinear failed to converge, increase the number of iterations.\n",
      "  warnings.warn(\"Liblinear failed to converge, increase \"\n",
      "/Users/heatherjohansen/opt/anaconda3/lib/python3.8/site-packages/sklearn/svm/_base.py:976: ConvergenceWarning: Liblinear failed to converge, increase the number of iterations.\n",
      "  warnings.warn(\"Liblinear failed to converge, increase \"\n",
      "/Users/heatherjohansen/opt/anaconda3/lib/python3.8/site-packages/sklearn/svm/_base.py:976: ConvergenceWarning: Liblinear failed to converge, increase the number of iterations.\n",
      "  warnings.warn(\"Liblinear failed to converge, increase \"\n",
      "/Users/heatherjohansen/opt/anaconda3/lib/python3.8/site-packages/sklearn/svm/_base.py:976: ConvergenceWarning: Liblinear failed to converge, increase the number of iterations.\n",
      "  warnings.warn(\"Liblinear failed to converge, increase \"\n",
      "/Users/heatherjohansen/opt/anaconda3/lib/python3.8/site-packages/sklearn/svm/_base.py:976: ConvergenceWarning: Liblinear failed to converge, increase the number of iterations.\n",
      "  warnings.warn(\"Liblinear failed to converge, increase \"\n",
      "/Users/heatherjohansen/opt/anaconda3/lib/python3.8/site-packages/sklearn/svm/_base.py:976: ConvergenceWarning: Liblinear failed to converge, increase the number of iterations.\n",
      "  warnings.warn(\"Liblinear failed to converge, increase \"\n",
      "/Users/heatherjohansen/opt/anaconda3/lib/python3.8/site-packages/sklearn/svm/_base.py:976: ConvergenceWarning: Liblinear failed to converge, increase the number of iterations.\n",
      "  warnings.warn(\"Liblinear failed to converge, increase \"\n",
      "/Users/heatherjohansen/opt/anaconda3/lib/python3.8/site-packages/sklearn/svm/_base.py:976: ConvergenceWarning: Liblinear failed to converge, increase the number of iterations.\n",
      "  warnings.warn(\"Liblinear failed to converge, increase \"\n",
      "/Users/heatherjohansen/opt/anaconda3/lib/python3.8/site-packages/sklearn/svm/_base.py:976: ConvergenceWarning: Liblinear failed to converge, increase the number of iterations.\n",
      "  warnings.warn(\"Liblinear failed to converge, increase \"\n",
      "/Users/heatherjohansen/opt/anaconda3/lib/python3.8/site-packages/sklearn/svm/_base.py:976: ConvergenceWarning: Liblinear failed to converge, increase the number of iterations.\n",
      "  warnings.warn(\"Liblinear failed to converge, increase \"\n",
      "/Users/heatherjohansen/opt/anaconda3/lib/python3.8/site-packages/sklearn/svm/_base.py:976: ConvergenceWarning: Liblinear failed to converge, increase the number of iterations.\n",
      "  warnings.warn(\"Liblinear failed to converge, increase \"\n",
      "/Users/heatherjohansen/opt/anaconda3/lib/python3.8/site-packages/sklearn/svm/_base.py:976: ConvergenceWarning: Liblinear failed to converge, increase the number of iterations.\n",
      "  warnings.warn(\"Liblinear failed to converge, increase \"\n",
      "/Users/heatherjohansen/opt/anaconda3/lib/python3.8/site-packages/sklearn/svm/_base.py:976: ConvergenceWarning: Liblinear failed to converge, increase the number of iterations.\n",
      "  warnings.warn(\"Liblinear failed to converge, increase \"\n",
      "/Users/heatherjohansen/opt/anaconda3/lib/python3.8/site-packages/sklearn/svm/_base.py:976: ConvergenceWarning: Liblinear failed to converge, increase the number of iterations.\n",
      "  warnings.warn(\"Liblinear failed to converge, increase \"\n",
      "/Users/heatherjohansen/opt/anaconda3/lib/python3.8/site-packages/sklearn/svm/_base.py:976: ConvergenceWarning: Liblinear failed to converge, increase the number of iterations.\n",
      "  warnings.warn(\"Liblinear failed to converge, increase \"\n",
      "/Users/heatherjohansen/opt/anaconda3/lib/python3.8/site-packages/sklearn/svm/_base.py:976: ConvergenceWarning: Liblinear failed to converge, increase the number of iterations.\n",
      "  warnings.warn(\"Liblinear failed to converge, increase \"\n",
      "[Parallel(n_jobs=1)]: Done 4320 out of 4320 | elapsed: 61.6min finished\n"
     ]
    },
    {
     "data": {
      "text/plain": [
       "GridSearchCV(cv=5,\n",
       "             estimator=Pipeline(steps=[('cvec', CountVectorizer()),\n",
       "                                       ('tfidf', TfidfTransformer()),\n",
       "                                       ('logreg',\n",
       "                                        LogisticRegression(max_iter=10000,\n",
       "                                                           solver='liblinear'))]),\n",
       "             n_jobs=1,\n",
       "             param_grid={'cvec__max_df': [0.75, 0.8],\n",
       "                         'cvec__max_features': [3750, 4500, 5500],\n",
       "                         'cvec__min_df': [1, 2],\n",
       "                         'cvec__ngram_range': [(1, 1), (1, 2), (1, 3)],\n",
       "                         'cvec__stop_words': [None, 'english',\n",
       "                                              fr...'about', 'above',\n",
       "                                                         'across', 'after',\n",
       "                                                         'afterwards', 'again',\n",
       "                                                         'against', 'all',\n",
       "                                                         'almost', 'alone',\n",
       "                                                         'along', 'already',\n",
       "                                                         'also', 'although',\n",
       "                                                         'always', 'am',\n",
       "                                                         'among', 'amongst',\n",
       "                                                         'amoungst', 'amount',\n",
       "                                                         'amp', 'an', 'and',\n",
       "                                                         'another', 'any',\n",
       "                                                         'anyhow', 'anyone',\n",
       "                                                         'anything', 'anyway', ...})],\n",
       "                         'logreg__penalty': ['l1', 'l2'],\n",
       "                         'tfidf__norm': ('l1', 'l2'),\n",
       "                         'tfidf__use_idf': (True, False)},\n",
       "             verbose=1)"
      ]
     },
     "execution_count": 387,
     "metadata": {},
     "output_type": "execute_result"
    }
   ],
   "source": [
    "# Fit GridSearch to training data:\n",
    "gs_lr_lem.fit(Z_train, y_train)"
   ]
  },
  {
   "cell_type": "code",
   "execution_count": 544,
   "metadata": {},
   "outputs": [
    {
     "name": "stdout",
     "output_type": "stream",
     "text": [
      "Logistic Regression on Stemmed Text Data:\n",
      "Training score: 0.9719\n",
      "Testing score: 0.9254\n"
     ]
    }
   ],
   "source": [
    "lr_stem_train = metrics.f1_score(y_train, gs_lr_lem.predict(Z_train)).round(4)\n",
    "lr_stem_test = metrics.f1_score(y_test, gs_lr_lem.predict(Z_test)).round(4)\n",
    "print('Logistic Regression on Stemmed Text Data:')\n",
    "print(f'Training score: {lr_stem_train}')\n",
    "print(f'Testing score: {lr_stem_test}')"
   ]
  },
  {
   "cell_type": "code",
   "execution_count": 389,
   "metadata": {},
   "outputs": [
    {
     "data": {
      "text/plain": [
       "{'cvec__max_df': 0.75,\n",
       " 'cvec__max_features': 4500,\n",
       " 'cvec__min_df': 2,\n",
       " 'cvec__ngram_range': (1, 2),\n",
       " 'cvec__stop_words': 'english',\n",
       " 'logreg__penalty': 'l2',\n",
       " 'tfidf__norm': 'l2',\n",
       " 'tfidf__use_idf': True}"
      ]
     },
     "execution_count": 389,
     "metadata": {},
     "output_type": "execute_result"
    }
   ],
   "source": [
    "gs_lr_lem.best_params_"
   ]
  },
  {
   "cell_type": "markdown",
   "metadata": {},
   "source": [
    "**Results:** Tuning hyperparameters has narrowed the variance sligthly compared to my starter LogisticRegression model, and improved accuracy of test set predictions. \n",
    "\n",
    "| Model      | Training Accuracy | Testing Accuracy |\n",
    "| ----------- | ----------- | ----------- |\n",
    "| Logistic Regression Starter  | 98.7%       |  91.6%  |\n",
    "| Logistic Regression Tuned   | 97.2%        |  92.6%   |"
   ]
  },
  {
   "cell_type": "markdown",
   "metadata": {},
   "source": [
    "###### <a id='logreg_fu'></a>\n",
    "\\\n",
    "\\\n",
    "**Predicting on Text and Numeric Features**\\\n",
    "Now that I have improved on my starter Logistic Regression model by reducing variance, I will add an additional feature - post_length - to see if that helps improve the predictive power of my model."
   ]
  },
  {
   "cell_type": "code",
   "execution_count": 390,
   "metadata": {},
   "outputs": [],
   "source": [
    "# Use FunctionTransformer to separate the text and numeric features that will comprise my X variable:\n",
    "\n",
    "get_text_data = FunctionTransformer(lambda x: x['title_selftext_stem'], validate = False)\n",
    "get_numeric_data = FunctionTransformer(lambda x: x[['post_length']], validate = False)"
   ]
  },
  {
   "cell_type": "code",
   "execution_count": 392,
   "metadata": {},
   "outputs": [],
   "source": [
    "# Create X and y variables and perform train_test_split:\n",
    "# I will use the same training and testing sets for all models using text and numeric X variables, in order to ensure the models are comparable. \n",
    "\n",
    "X_fu = all_py[['title_selftext_stem', 'post_length']]\n",
    "y_fu = all_py['subred']\n",
    "\n",
    "np.random.seed(42)\n",
    "\n",
    "X_train_fu, X_test_fu, y_train_fu, y_test_fu = train_test_split(X_fu, y_fu, test_size=0.33, stratify = y, random_state=42)"
   ]
  },
  {
   "cell_type": "code",
   "execution_count": 401,
   "metadata": {},
   "outputs": [
    {
     "name": "stdout",
     "output_type": "stream",
     "text": [
      "Fitting 5 folds for each of 576 candidates, totalling 2880 fits\n"
     ]
    },
    {
     "name": "stderr",
     "output_type": "stream",
     "text": [
      "[Parallel(n_jobs=1)]: Using backend SequentialBackend with 1 concurrent workers.\n",
      "[Parallel(n_jobs=1)]: Done 2880 out of 2880 | elapsed:  4.0min finished\n"
     ]
    },
    {
     "data": {
      "text/plain": [
       "0.9621513944223108"
      ]
     },
     "execution_count": 401,
     "metadata": {},
     "output_type": "execute_result"
    }
   ],
   "source": [
    "lrfu_pipe = Pipeline([\n",
    "    ('features', FeatureUnion([\n",
    "            ('numeric_features', Pipeline([\n",
    "                ('selector', get_numeric_data)\n",
    "            ])),\n",
    "            ('text_features', Pipeline([\n",
    "                ('selector', get_text_data),\n",
    "                ('cvec', CountVectorizer()),\n",
    "                ('tfidf', TfidfTransformer())\n",
    "            ]))\n",
    "    ])),\n",
    "     ('logreg', LogisticRegression(solver = 'liblinear', max_iter=10_000))\n",
    "])\n",
    "\n",
    "lrfu_pipe_params = {\n",
    "    'features__text_features__cvec__max_features': [4500, 3750, 3000],\n",
    "    'features__text_features__cvec__min_df': [1,2],\n",
    "    'features__text_features__cvec__max_df': [.7, .75, .8],\n",
    "    'features__text_features__cvec__ngram_range' : [(1,1), (1,2)],\n",
    "    'features__text_features__cvec__stop_words' : [None, 'english'],\n",
    "    'features__text_features__tfidf__use_idf': (True, False),\n",
    "    'features__text_features__tfidf__norm': ('l1', 'l2'),\n",
    "    'logreg__penalty': ['l1', 'l2']\n",
    "}\n",
    "\n",
    "lr_fu_gs = GridSearchCV(lrfu_pipe, lrfu_pipe_params, cv=5, verbose=1)\n",
    "\n",
    "lr_fu_gs.fit(X_train_fu, y_train_fu)\n",
    "lr_fu_gs.score(X_train_fu, y_train_fu)"
   ]
  },
  {
   "cell_type": "code",
   "execution_count": 402,
   "metadata": {},
   "outputs": [
    {
     "name": "stdout",
     "output_type": "stream",
     "text": [
      "Logistic Regression with Text & Numeric Features:\n",
      "Training score: 0.962\n",
      "Testing score: 0.92\n"
     ]
    }
   ],
   "source": [
    "lrfu_train = lr_fu_gs.score(X_train_fu, y_train_fu)\n",
    "lrfu_test = lr_fu_gs.score(X_test_fu, y_test_fu)\n",
    "print('Logistic Regression with Text & Numeric Features:')\n",
    "print(f'Training score: {lrfu_train.round(3)}')\n",
    "print(f'Testing score: {lrfu_test.round(3)}')"
   ]
  },
  {
   "cell_type": "code",
   "execution_count": 403,
   "metadata": {},
   "outputs": [
    {
     "data": {
      "text/plain": [
       "{'features__text_features__cvec__max_df': 0.7,\n",
       " 'features__text_features__cvec__max_features': 3750,\n",
       " 'features__text_features__cvec__min_df': 1,\n",
       " 'features__text_features__cvec__ngram_range': (1, 1),\n",
       " 'features__text_features__cvec__stop_words': None,\n",
       " 'features__text_features__tfidf__norm': 'l2',\n",
       " 'features__text_features__tfidf__use_idf': True,\n",
       " 'logreg__penalty': 'l2'}"
      ]
     },
     "execution_count": 403,
     "metadata": {},
     "output_type": "execute_result"
    }
   ],
   "source": [
    "lr_fu_gs.best_params_"
   ]
  },
  {
   "cell_type": "markdown",
   "metadata": {},
   "source": [
    "**Results:** The addition of post length did not improve accuracy of the model. This is likely because the Bag of Words approach already takes into account the number of words in each \"bag\" so adding this feature ended up being redundant. \n",
    "\n",
    "\n",
    "| Model      | Training Accuracy | Testing Accuracy |\n",
    "| ----------- | ----------- | ----------- |\n",
    "| Logistic Regression Starter  | 98.7%       |  91.6%  |\n",
    "| Logistic Regression Tuned   | 97.2%        |  92.6%   |\n",
    "| Logistic Regression Text & Numeric   | 96.2%        |  92.0%   |"
   ]
  },
  {
   "cell_type": "markdown",
   "metadata": {},
   "source": [
    "<a id='nb_final'></a> \n",
    "\n",
    "#### Naive Bayes"
   ]
  },
  {
   "cell_type": "markdown",
   "metadata": {},
   "source": [
    "<a id='nb_lem'></a>\n",
    "**Predicting on Text Data Only**\\\n",
    "Because adding in the post_length field was not beneficial to the Logistic Regression Model, I will only tune the Naive Bayes model fit to stemmed text data. "
   ]
  },
  {
   "cell_type": "code",
   "execution_count": 720,
   "metadata": {},
   "outputs": [],
   "source": [
    "# Set up a pipeline with CountVectorizer and TfidfTransformer as our transformers, \n",
    "# and Mulitnomial Naive Bayes as our estimator:\n",
    "# I will use the same Z_train and y_train that were built for the Logistic Regression, text only, model above. \n",
    "\n",
    "pipe = Pipeline([('cvec', CountVectorizer()),\n",
    "                 ('tfidf', TfidfTransformer()),\n",
    "                 ('nb', MultinomialNB())\n",
    "                ])"
   ]
  },
  {
   "cell_type": "code",
   "execution_count": 407,
   "metadata": {},
   "outputs": [],
   "source": [
    "# Set pipe parameters for GridSearch:\n",
    "pipe_params = {\n",
    "    'cvec__max_features': [3500, 3750, 4250, 4500],\n",
    "    'cvec__min_df': [1,2,3],\n",
    "    'cvec__max_df': [.75, .85, .95], \n",
    "    'cvec__ngram_range' : [(1,1), (1,2)],\n",
    "    'cvec__stop_words' : [None, 'english'],\n",
    "    'tfidf__use_idf': (True, False),\n",
    "    'tfidf__norm': ('l1', 'l2'),\n",
    "    'nb__alpha': [1, 1e-1, 1e-2]\n",
    "}"
   ]
  },
  {
   "cell_type": "code",
   "execution_count": 408,
   "metadata": {},
   "outputs": [],
   "source": [
    "# Set up the GridSearch:\n",
    "gs_cvec_nb = GridSearchCV(pipe,\n",
    "                      pipe_params,\n",
    "                      cv = 5,\n",
    "                      verbose=1,\n",
    "                      n_jobs=2)"
   ]
  },
  {
   "cell_type": "code",
   "execution_count": 409,
   "metadata": {},
   "outputs": [
    {
     "name": "stdout",
     "output_type": "stream",
     "text": [
      "Fitting 5 folds for each of 1728 candidates, totalling 8640 fits\n"
     ]
    },
    {
     "name": "stderr",
     "output_type": "stream",
     "text": [
      "[Parallel(n_jobs=2)]: Using backend LokyBackend with 2 concurrent workers.\n",
      "[Parallel(n_jobs=2)]: Done 104 tasks      | elapsed:    5.7s\n",
      "[Parallel(n_jobs=2)]: Done 704 tasks      | elapsed:   31.8s\n",
      "[Parallel(n_jobs=2)]: Done 1704 tasks      | elapsed:  1.2min\n",
      "[Parallel(n_jobs=2)]: Done 3104 tasks      | elapsed:  2.3min\n",
      "[Parallel(n_jobs=2)]: Done 4904 tasks      | elapsed:  3.6min\n",
      "[Parallel(n_jobs=2)]: Done 7104 tasks      | elapsed:  5.1min\n",
      "[Parallel(n_jobs=2)]: Done 8640 out of 8640 | elapsed:  6.1min finished\n"
     ]
    },
    {
     "data": {
      "text/plain": [
       "GridSearchCV(cv=5,\n",
       "             estimator=Pipeline(steps=[('cvec', CountVectorizer()),\n",
       "                                       ('tfidf', TfidfTransformer()),\n",
       "                                       ('nb', MultinomialNB())]),\n",
       "             n_jobs=2,\n",
       "             param_grid={'cvec__max_df': [0.75, 0.85, 0.95],\n",
       "                         'cvec__max_features': [3500, 3750, 4250, 4500],\n",
       "                         'cvec__min_df': [1, 2, 3],\n",
       "                         'cvec__ngram_range': [(1, 1), (1, 2)],\n",
       "                         'cvec__stop_words': [None, 'english'],\n",
       "                         'nb__alpha': [1, 0.1, 0.01],\n",
       "                         'tfidf__norm': ('l1', 'l2'),\n",
       "                         'tfidf__use_idf': (True, False)},\n",
       "             verbose=1)"
      ]
     },
     "execution_count": 409,
     "metadata": {},
     "output_type": "execute_result"
    }
   ],
   "source": [
    "# Fit GridSearch to training data:\n",
    "gs_cvec_nb.fit(Z_train, y_train)"
   ]
  },
  {
   "cell_type": "code",
   "execution_count": 421,
   "metadata": {},
   "outputs": [
    {
     "data": {
      "text/plain": [
       "0.9352526643590032"
      ]
     },
     "execution_count": 421,
     "metadata": {},
     "output_type": "execute_result"
    }
   ],
   "source": [
    "gs_cvec_nb.best_score_"
   ]
  },
  {
   "cell_type": "code",
   "execution_count": 422,
   "metadata": {},
   "outputs": [
    {
     "data": {
      "text/plain": [
       "{'cvec__max_df': 0.75,\n",
       " 'cvec__max_features': 4500,\n",
       " 'cvec__min_df': 1,\n",
       " 'cvec__ngram_range': (1, 1),\n",
       " 'cvec__stop_words': None,\n",
       " 'nb__alpha': 0.01,\n",
       " 'tfidf__norm': 'l2',\n",
       " 'tfidf__use_idf': False}"
      ]
     },
     "execution_count": 422,
     "metadata": {},
     "output_type": "execute_result"
    }
   ],
   "source": [
    "gs_cvec_nb.best_params_"
   ]
  },
  {
   "cell_type": "markdown",
   "metadata": {},
   "source": [
    "<a id='eval'></a>\n",
    "### Model Evaluation"
   ]
  },
  {
   "cell_type": "markdown",
   "metadata": {},
   "source": [
    "<a id='model_metrics'></a>\n",
    "#### Model Performance Scores:"
   ]
  },
  {
   "cell_type": "code",
   "execution_count": 723,
   "metadata": {},
   "outputs": [
    {
     "name": "stdout",
     "output_type": "stream",
     "text": [
      "Naive Bayes Scores:\n",
      "Training F1 score: 0.9771\n",
      "Testing F1 score: 0.9243\n",
      "Accuracy: 0.9202\n",
      "Precision: 0.8796\n",
      "Recall: 0.9737\n"
     ]
    }
   ],
   "source": [
    "# Based on the F1 scores on training and testing sets, my model is still overfit, but less so than with the . \n",
    "# However, it still meets the goal of 90% + accuracy on testing predictions.\n",
    "\n",
    "nb_stem_train = metrics.f1_score(y_train, gs_cvec_nb.predict(Z_train)).round(4)\n",
    "nb_stem_test = metrics.f1_score(y_test, gs_cvec_nb.predict(Z_test)).round(4)\n",
    "print('Naive Bayes Scores:')\n",
    "print(f'Training F1 score: {nb_stem_train}')\n",
    "print(f'Testing F1 score: {nb_stem_test}')\n",
    "\n",
    "# Get predictions\n",
    "preds = gs_cvec_nb.predict(Z_test)\n",
    "\n",
    "# Get confusion matrix values\n",
    "tn_nb, fp_nb, fn_nb, tp_nb = confusion_matrix(y_test, preds).ravel()\n",
    "\n",
    "# Calculate the Classification Model metrics:\n",
    "accuracy_nb = (tp_nb + tn_nb) / (tp_nb + tn_nb + fp_nb + fn_nb)\n",
    "print(f'Accuracy: {accuracy_nb.round(4)}')\n",
    "\n",
    "precision_nb = tp_nb / (tp_nb + fp_nb)\n",
    "print(f'Precision: {precision_nb.round(4)}')\n",
    "\n",
    "recall_nb = tp_nb / (tp_nb + fn_nb)\n",
    "print(f'Recall: {recall_nb.round(4)}')\n",
    "\n"
   ]
  },
  {
   "cell_type": "code",
   "execution_count": 724,
   "metadata": {},
   "outputs": [
    {
     "name": "stdout",
     "output_type": "stream",
     "text": [
      "Logistic Regression Scores:\n",
      "Training F1 score: 0.9719\n",
      "Testing F1 score: 0.9254\n",
      "Accuracy: 0.9263\n",
      "Precision: 0.936\n",
      "Recall: 0.9152\n"
     ]
    }
   ],
   "source": [
    "# Based on the F1 scores on training and testing sets, my model is a little overfit. \n",
    "# However, it still meets the goal of 90% + accuracy on testing predictions.\n",
    "\n",
    "lr_stem_train = metrics.f1_score(y_train, gs_lr_lem.predict(Z_train)).round(4)\n",
    "lr_stem_test = metrics.f1_score(y_test, gs_lr_lem.predict(Z_test)).round(4)\n",
    "print('Logistic Regression Scores:')\n",
    "print(f'Training F1 score: {lr_stem_train}')\n",
    "print(f'Testing F1 score: {lr_stem_test}')\n",
    "\n",
    "# Get predictions for Logistic Regression:\n",
    "preds_lr = gs_lr_lem.predict(Z_test)\n",
    "\n",
    "# Get confusion matrix values\n",
    "tn_logreg, fp_logreg, fn_logreg, tp_logreg = confusion_matrix(y_test, preds_lr).ravel()\n",
    "\n",
    "# Calculate the Classification Model metrics:\n",
    "accuracy_lr = (tp_logreg + tn_logreg) / (tp_logreg + tn_logreg + fp_logreg + fn_logreg)\n",
    "print(f'Accuracy: {accuracy_lr.round(4)}')\n",
    "\n",
    "precision_logreg = tp_logreg / (tp_logreg + fp_logreg)\n",
    "print(f'Precision: {precision_logreg.round(4)}')\n",
    "\n",
    "recall_logreg = tp_logreg / (tp_logreg + fn_logreg)\n",
    "print(f'Recall: {recall_logreg.round(4)}')"
   ]
  },
  {
   "cell_type": "markdown",
   "metadata": {},
   "source": [
    "<a id='conf_mtx'></a>\n",
    "#### Confusion Matrices"
   ]
  },
  {
   "cell_type": "code",
   "execution_count": 528,
   "metadata": {},
   "outputs": [
    {
     "data": {
      "image/png": "[encoded data removed]",
      "text/plain": [
       "<Figure size 432x288 with 2 Axes>"
      ]
     },
     "metadata": {
      "needs_background": "light"
     },
     "output_type": "display_data"
    }
   ],
   "source": [
    "nb_confmx = plot_confusion_matrix(gs_cvec_nb, Z_test, y_test, display_labels=['montypython', 'python'], cmap=\"YlGnBu\")\n",
    "plt.title('Naive Bayes Confusion Matrix');"
   ]
  },
  {
   "cell_type": "code",
   "execution_count": 529,
   "metadata": {},
   "outputs": [
    {
     "data": {
      "image/png": "[encoded data removed]",
      "text/plain": [
       "<Figure size 432x288 with 2 Axes>"
      ]
     },
     "metadata": {
      "needs_background": "light"
     },
     "output_type": "display_data"
    }
   ],
   "source": [
    "lr_confmx = plot_confusion_matrix(gs_lr_lem, Z_test, y_test, display_labels=['montypython', 'python'], cmap=\"RdPu\")\n",
    "plt.title('Logistic Regression Matrix');"
   ]
  },
  {
   "cell_type": "markdown",
   "metadata": {},
   "source": [
    "<a id='eval_sum'></a>\n",
    "#### Evaluation Summary:\n",
    "Both Logistic Regression and Naïve Bayes models are performing strongly based on key metrics:\n",
    "* Accuracy on testing data > 90%\n",
    "* F1 Scores for testing data ~ 92.5%\n",
    "\n",
    "Where the models differ is in Precision and Recall:\n",
    "* Logistic Regression has higher precision and lower recall, meaning in the equation for the harmonized F1 score, it reduces False Positives but allows more False Negatives. \n",
    "* Naive Bayes has lower precision and higher recall, so it allows more False Positives than Logistic Regression, but fewer False Negatives. In addition, these scores have a wider variance that the Logistic Regression scores, despite similar blended F1 scores for both models. \n",
    "\n",
    "Because False Positives will become the target audience for one-to-one targeting, marketing objectives will drive final model selection:\n",
    "* Naïve Bayes = Increase reach, lower ROAS\n",
    "* Logistic Regression = Reduced reach, higher ROAS"
   ]
  },
  {
   "cell_type": "markdown",
   "metadata": {},
   "source": [
    "<a id='conclusion'></a>"
   ]
  }
 ],
 "metadata": {
  "kernelspec": {
   "display_name": "Python 3",
   "language": "python",
   "name": "python3"
  },
  "language_info": {
   "codemirror_mode": {
    "name": "ipython",
    "version": 3
   },
   "file_extension": ".py",
   "mimetype": "text/x-python",
   "name": "python",
   "nbconvert_exporter": "python",
   "pygments_lexer": "ipython3",
   "version": "3.8.3"
  }
 },
 "nbformat": 4,
 "nbformat_minor": 4
}
